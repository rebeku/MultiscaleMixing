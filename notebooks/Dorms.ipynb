{
 "cells": [
  {
   "cell_type": "code",
   "execution_count": 2,
   "id": "20bc02e1-96d2-4092-9bdb-ae205e471cde",
   "metadata": {},
   "outputs": [],
   "source": [
    "from datetime import datetime\n",
    "from lassort import load, localAssortF\n",
    "from matplotlib import pyplot as plt\n",
    "import numpy as np\n",
    "import pandas as pd"
   ]
  },
  {
   "cell_type": "code",
   "execution_count": 3,
   "id": "b6ea2ab0-b514-4747-9f9b-8ca9cf000aa7",
   "metadata": {},
   "outputs": [],
   "source": [
    "networkfile = '../../../problem_sets/2/facebook100txt/Wellesley22.txt'\n",
    "metadatafile = '../../../problem_sets/2/facebook100txt/Wellesley22_attr.txt'\n",
    "\n",
    "m = pd.read_csv(metadatafile,sep=\"\\t\")"
   ]
  },
  {
   "cell_type": "code",
   "execution_count": 4,
   "id": "3a75a00c-5fa0-4970-8e29-73b515eec6a5",
   "metadata": {},
   "outputs": [
    {
     "data": {
      "text/plain": [
       "0     962\n",
       "40    152\n",
       "33    146\n",
       "41    143\n",
       "39    142\n",
       "42    140\n",
       "48    136\n",
       "32    132\n",
       "34    130\n",
       "46    126\n",
       "47    125\n",
       "44    110\n",
       "37    110\n",
       "31    103\n",
       "35    102\n",
       "43     69\n",
       "36     38\n",
       "49     32\n",
       "50     20\n",
       "53     13\n",
       "38     13\n",
       "45     12\n",
       "52      9\n",
       "51      4\n",
       "54      1\n",
       "Name: dorm, dtype: int64"
      ]
     },
     "execution_count": 4,
     "metadata": {},
     "output_type": "execute_result"
    }
   ],
   "source": [
    "m.dorm.value_counts()"
   ]
  },
  {
   "cell_type": "code",
   "execution_count": 5,
   "id": "d86d8140-12b2-4594-8187-a0191f71d1f4",
   "metadata": {},
   "outputs": [
    {
     "data": {
      "text/plain": [
       "0      601\n",
       "63     283\n",
       "95     216\n",
       "76     204\n",
       "65     186\n",
       "96     172\n",
       "51     146\n",
       "90     103\n",
       "75      93\n",
       "50      73\n",
       "107     61\n",
       "52      53\n",
       "102     45\n",
       "46      45\n",
       "62      42\n",
       "86      41\n",
       "47      35\n",
       "103     32\n",
       "67      32\n",
       "66      31\n",
       "55      28\n",
       "89      27\n",
       "43      27\n",
       "60      27\n",
       "92      25\n",
       "94      25\n",
       "108     23\n",
       "83      20\n",
       "91      20\n",
       "44      19\n",
       "Name: major, dtype: int64"
      ]
     },
     "execution_count": 5,
     "metadata": {},
     "output_type": "execute_result"
    }
   ],
   "source": [
    "m.major.value_counts().head(30)"
   ]
  },
  {
   "cell_type": "code",
   "execution_count": 6,
   "id": "24cb8fd8-2bf9-4f65-bec1-4753a65077b2",
   "metadata": {},
   "outputs": [
    {
     "data": {
      "text/html": [
       "<div>\n",
       "<style scoped>\n",
       "    .dataframe tbody tr th:only-of-type {\n",
       "        vertical-align: middle;\n",
       "    }\n",
       "\n",
       "    .dataframe tbody tr th {\n",
       "        vertical-align: top;\n",
       "    }\n",
       "\n",
       "    .dataframe thead th {\n",
       "        text-align: right;\n",
       "    }\n",
       "</style>\n",
       "<table border=\"1\" class=\"dataframe\">\n",
       "  <thead>\n",
       "    <tr style=\"text-align: right;\">\n",
       "      <th></th>\n",
       "      <th>id</th>\n",
       "      <th>status</th>\n",
       "      <th>gender</th>\n",
       "      <th>major</th>\n",
       "      <th>dorm</th>\n",
       "      <th>year</th>\n",
       "    </tr>\n",
       "  </thead>\n",
       "  <tbody>\n",
       "    <tr>\n",
       "      <th>0</th>\n",
       "      <td>1</td>\n",
       "      <td>1</td>\n",
       "      <td>1</td>\n",
       "      <td>0</td>\n",
       "      <td>44</td>\n",
       "      <td>2008</td>\n",
       "    </tr>\n",
       "    <tr>\n",
       "      <th>1</th>\n",
       "      <td>2</td>\n",
       "      <td>1</td>\n",
       "      <td>1</td>\n",
       "      <td>96</td>\n",
       "      <td>0</td>\n",
       "      <td>2006</td>\n",
       "    </tr>\n",
       "    <tr>\n",
       "      <th>2</th>\n",
       "      <td>3</td>\n",
       "      <td>1</td>\n",
       "      <td>1</td>\n",
       "      <td>63</td>\n",
       "      <td>50</td>\n",
       "      <td>2006</td>\n",
       "    </tr>\n",
       "    <tr>\n",
       "      <th>3</th>\n",
       "      <td>4</td>\n",
       "      <td>1</td>\n",
       "      <td>1</td>\n",
       "      <td>90</td>\n",
       "      <td>40</td>\n",
       "      <td>2008</td>\n",
       "    </tr>\n",
       "    <tr>\n",
       "      <th>4</th>\n",
       "      <td>5</td>\n",
       "      <td>1</td>\n",
       "      <td>1</td>\n",
       "      <td>90</td>\n",
       "      <td>32</td>\n",
       "      <td>2007</td>\n",
       "    </tr>\n",
       "    <tr>\n",
       "      <th>...</th>\n",
       "      <td>...</td>\n",
       "      <td>...</td>\n",
       "      <td>...</td>\n",
       "      <td>...</td>\n",
       "      <td>...</td>\n",
       "      <td>...</td>\n",
       "    </tr>\n",
       "    <tr>\n",
       "      <th>2965</th>\n",
       "      <td>2966</td>\n",
       "      <td>1</td>\n",
       "      <td>0</td>\n",
       "      <td>94</td>\n",
       "      <td>0</td>\n",
       "      <td>2007</td>\n",
       "    </tr>\n",
       "    <tr>\n",
       "      <th>2966</th>\n",
       "      <td>2967</td>\n",
       "      <td>1</td>\n",
       "      <td>1</td>\n",
       "      <td>94</td>\n",
       "      <td>0</td>\n",
       "      <td>2006</td>\n",
       "    </tr>\n",
       "    <tr>\n",
       "      <th>2967</th>\n",
       "      <td>2968</td>\n",
       "      <td>1</td>\n",
       "      <td>1</td>\n",
       "      <td>44</td>\n",
       "      <td>0</td>\n",
       "      <td>2007</td>\n",
       "    </tr>\n",
       "    <tr>\n",
       "      <th>2968</th>\n",
       "      <td>2969</td>\n",
       "      <td>2</td>\n",
       "      <td>1</td>\n",
       "      <td>63</td>\n",
       "      <td>43</td>\n",
       "      <td>2005</td>\n",
       "    </tr>\n",
       "    <tr>\n",
       "      <th>2969</th>\n",
       "      <td>2970</td>\n",
       "      <td>1</td>\n",
       "      <td>1</td>\n",
       "      <td>75</td>\n",
       "      <td>41</td>\n",
       "      <td>2007</td>\n",
       "    </tr>\n",
       "  </tbody>\n",
       "</table>\n",
       "<p>2970 rows × 6 columns</p>\n",
       "</div>"
      ],
      "text/plain": [
       "        id  status  gender  major  dorm  year\n",
       "0        1       1       1      0    44  2008\n",
       "1        2       1       1     96     0  2006\n",
       "2        3       1       1     63    50  2006\n",
       "3        4       1       1     90    40  2008\n",
       "4        5       1       1     90    32  2007\n",
       "...    ...     ...     ...    ...   ...   ...\n",
       "2965  2966       1       0     94     0  2007\n",
       "2966  2967       1       1     94     0  2006\n",
       "2967  2968       1       1     44     0  2007\n",
       "2968  2969       2       1     63    43  2005\n",
       "2969  2970       1       1     75    41  2007\n",
       "\n",
       "[2970 rows x 6 columns]"
      ]
     },
     "execution_count": 6,
     "metadata": {},
     "output_type": "execute_result"
    }
   ],
   "source": [
    "m"
   ]
  },
  {
   "cell_type": "code",
   "execution_count": 7,
   "id": "2e934af3-d27c-42c5-901d-d455daf06443",
   "metadata": {},
   "outputs": [
    {
     "name": "stdout",
     "output_type": "stream",
     "text": [
      "Ran multiscale mixing for dorms in 50.8847 seconds.\n"
     ]
    }
   ],
   "source": [
    "# columns[4] is dorm\n",
    "col = 4\n",
    "\n",
    "start = datetime.now()\n",
    "E, M = load(\n",
    "    networkfile, \n",
    "    metadatafile, \n",
    "    zero_index=1, \n",
    "    meta_col=col,\n",
    "    header=True,\n",
    "    reindex=True,\n",
    "    missing_value=0\n",
    ")\n",
    "\n",
    "assortM, assortT, Z = localAssortF(E,M,pr=np.arange(0,1,0.1))\n",
    "end = datetime.now()\n",
    "print(f\"Ran multiscale mixing for dorms in {(end-start).total_seconds()} seconds.\")"
   ]
  },
  {
   "cell_type": "code",
   "execution_count": 11,
   "id": "dd7b71da-1455-48c2-a21c-1f25aa6cc802",
   "metadata": {},
   "outputs": [
    {
     "data": {
      "text/plain": [
       "count    2970.000000\n",
       "mean        0.165902\n",
       "std         0.181502\n",
       "min        -0.047450\n",
       "25%         0.072961\n",
       "50%         0.090261\n",
       "75%         0.156527\n",
       "max         0.835910\n",
       "dtype: float64"
      ]
     },
     "execution_count": 11,
     "metadata": {},
     "output_type": "execute_result"
    }
   ],
   "source": [
    "pd.Series(assortT).describe()"
   ]
  },
  {
   "cell_type": "code",
   "execution_count": 13,
   "id": "cf425d5f-d199-4086-80eb-010b727792a2",
   "metadata": {},
   "outputs": [
    {
     "data": {
      "text/plain": [
       "Text(0, 0.5, 'Mean ')"
      ]
     },
     "execution_count": 13,
     "metadata": {},
     "output_type": "execute_result"
    },
    {
     "data": {
      "image/png": "[encoded data removed]",
      "text/plain": [
       "<Figure size 432x288 with 1 Axes>"
      ]
     },
     "metadata": {
      "needs_background": "light"
     },
     "output_type": "display_data"
    }
   ],
   "source": [
    "\n",
    "pd.Series(assortT).plot(kind='hist', bins=50)\n",
    "plt.xlabel(\"Class Size\")\n",
    "plt.ylabel(\"Mean \")"
   ]
  },
  {
   "cell_type": "code",
   "execution_count": 14,
   "id": "5f5e7376-182d-475d-b5f5-9e7e714c4693",
   "metadata": {},
   "outputs": [],
   "source": [
    "dorms = pd.DataFrame([m.dorm.values, assortT]).T\n",
    "dorms.columns = [\"dorm\", \"T\"]\n",
    "\n",
    "assort_by_dorm = dorms.groupby(\"dorm\")[[\"T\"]].mean()\n",
    "assort_by_dorm[\"n\"] = dorms.dorm.value_counts()"
   ]
  },
  {
   "cell_type": "code",
   "execution_count": 30,
   "id": "e9974f04-1d14-4c1f-953f-357aa1ff0353",
   "metadata": {},
   "outputs": [
    {
     "data": {
      "text/plain": [
       "Text(0.5, 1.0, 'Assortativity by dorm at Wellesley')"
      ]
     },
     "execution_count": 30,
     "metadata": {},
     "output_type": "execute_result"
    },
    {
     "data": {
      "image/png": "[encoded data removed]",
      "text/plain": [
       "<Figure size 432x288 with 1 Axes>"
      ]
     },
     "metadata": {
      "needs_background": "light"
     },
     "output_type": "display_data"
    }
   ],
   "source": [
    "dorms = dorms[dorms.dorm != 0]\n",
    "\n",
    "grpd = dorms.groupby(\"dorm\")\n",
    "r_mean = grpd.T.mean().values\n",
    "\n",
    "n = dorms.dorm.value_counts().sort_index().values\n",
    "\n",
    "plt.scatter(n, r_mean)\n",
    "plt.xlabel(\"Class Size\")\n",
    "plt.ylabel(\"Average $r_{\\ell}$\")\n",
    "plt.title(\"Assortativity by dorm at Wellesley\")"
   ]
  },
  {
   "cell_type": "code",
   "execution_count": 27,
   "id": "8e8584fc-16aa-42eb-83dc-e78a148fcc1b",
   "metadata": {},
   "outputs": [
    {
     "data": {
      "text/html": [
       "<div>\n",
       "<style scoped>\n",
       "    .dataframe tbody tr th:only-of-type {\n",
       "        vertical-align: middle;\n",
       "    }\n",
       "\n",
       "    .dataframe tbody tr th {\n",
       "        vertical-align: top;\n",
       "    }\n",
       "\n",
       "    .dataframe thead th {\n",
       "        text-align: right;\n",
       "    }\n",
       "</style>\n",
       "<table border=\"1\" class=\"dataframe\">\n",
       "  <thead>\n",
       "    <tr style=\"text-align: right;\">\n",
       "      <th></th>\n",
       "      <th>dorm</th>\n",
       "      <th>T</th>\n",
       "    </tr>\n",
       "  </thead>\n",
       "  <tbody>\n",
       "    <tr>\n",
       "      <th>0</th>\n",
       "      <td>44.0</td>\n",
       "      <td>0.116609</td>\n",
       "    </tr>\n",
       "    <tr>\n",
       "      <th>2</th>\n",
       "      <td>50.0</td>\n",
       "      <td>0.008185</td>\n",
       "    </tr>\n",
       "    <tr>\n",
       "      <th>3</th>\n",
       "      <td>40.0</td>\n",
       "      <td>0.133507</td>\n",
       "    </tr>\n",
       "    <tr>\n",
       "      <th>4</th>\n",
       "      <td>32.0</td>\n",
       "      <td>0.106718</td>\n",
       "    </tr>\n",
       "    <tr>\n",
       "      <th>5</th>\n",
       "      <td>40.0</td>\n",
       "      <td>0.065717</td>\n",
       "    </tr>\n",
       "    <tr>\n",
       "      <th>...</th>\n",
       "      <td>...</td>\n",
       "      <td>...</td>\n",
       "    </tr>\n",
       "    <tr>\n",
       "      <th>2960</th>\n",
       "      <td>46.0</td>\n",
       "      <td>0.101450</td>\n",
       "    </tr>\n",
       "    <tr>\n",
       "      <th>2962</th>\n",
       "      <td>46.0</td>\n",
       "      <td>0.103485</td>\n",
       "    </tr>\n",
       "    <tr>\n",
       "      <th>2963</th>\n",
       "      <td>40.0</td>\n",
       "      <td>0.477538</td>\n",
       "    </tr>\n",
       "    <tr>\n",
       "      <th>2968</th>\n",
       "      <td>43.0</td>\n",
       "      <td>0.039805</td>\n",
       "    </tr>\n",
       "    <tr>\n",
       "      <th>2969</th>\n",
       "      <td>41.0</td>\n",
       "      <td>0.079016</td>\n",
       "    </tr>\n",
       "  </tbody>\n",
       "</table>\n",
       "<p>2008 rows × 2 columns</p>\n",
       "</div>"
      ],
      "text/plain": [
       "      dorm         T\n",
       "0     44.0  0.116609\n",
       "2     50.0  0.008185\n",
       "3     40.0  0.133507\n",
       "4     32.0  0.106718\n",
       "5     40.0  0.065717\n",
       "...    ...       ...\n",
       "2960  46.0  0.101450\n",
       "2962  46.0  0.103485\n",
       "2963  40.0  0.477538\n",
       "2968  43.0  0.039805\n",
       "2969  41.0  0.079016\n",
       "\n",
       "[2008 rows x 2 columns]"
      ]
     },
     "execution_count": 27,
     "metadata": {},
     "output_type": "execute_result"
    }
   ],
   "source": [
    "dorms[dorms.dorm != 0]"
   ]
  },
  {
   "cell_type": "code",
   "execution_count": 16,
   "id": "46139bc6-9a3a-43b8-91e6-3325db3a9e1c",
   "metadata": {},
   "outputs": [
    {
     "data": {
      "text/plain": [
       "Text(0.5, 0, 'Class Size')"
      ]
     },
     "execution_count": 16,
     "metadata": {},
     "output_type": "execute_result"
    },
    {
     "data": {
      "image/png": "[encoded data removed]",
      "text/plain": [
       "<Figure size 432x288 with 1 Axes>"
      ]
     },
     "metadata": {
      "needs_background": "light"
     },
     "output_type": "display_data"
    }
   ],
   "source": [
    "assort_by_dorm.drop(0).plot(kind=\"scatter\", x=\"n\", y=\"T\")\n",
    "\n"
   ]
  },
  {
   "cell_type": "code",
   "execution_count": 18,
   "id": "62df56b6-06f4-41fa-a5b6-d107d6a0d212",
   "metadata": {},
   "outputs": [
    {
     "data": {
      "text/plain": [
       "dorm\n",
       "0.0     0.095859\n",
       "31.0    0.236385\n",
       "32.0    0.227111\n",
       "33.0    0.287591\n",
       "34.0    0.126188\n",
       "35.0    0.126764\n",
       "36.0    0.281407\n",
       "37.0    0.165080\n",
       "38.0    0.045052\n",
       "39.0    0.258453\n",
       "40.0    0.277043\n",
       "41.0    0.160453\n",
       "42.0    0.201722\n",
       "43.0    0.087354\n",
       "44.0    0.227778\n",
       "45.0    0.092405\n",
       "46.0    0.226458\n",
       "47.0    0.150580\n",
       "48.0    0.193579\n",
       "49.0    0.158253\n",
       "50.0    0.109983\n",
       "51.0    0.008719\n",
       "52.0    0.077998\n",
       "53.0    0.119834\n",
       "54.0   -0.004752\n",
       "Name: T, dtype: float64"
      ]
     },
     "execution_count": 18,
     "metadata": {},
     "output_type": "execute_result"
    }
   ],
   "source": [
    "assort_by_dorm.groupby(\"dorm\").T.mean()"
   ]
  },
  {
   "cell_type": "code",
   "execution_count": 39,
   "id": "4c336509-9fb7-444e-82db-e2a54099422c",
   "metadata": {},
   "outputs": [
    {
     "name": "stdout",
     "output_type": "stream",
     "text": [
      "Ran multiscale mixing for major in 69.367847 seconds.\n"
     ]
    },
    {
     "data": {
      "text/html": [
       "<div>\n",
       "<style scoped>\n",
       "    .dataframe tbody tr th:only-of-type {\n",
       "        vertical-align: middle;\n",
       "    }\n",
       "\n",
       "    .dataframe tbody tr th {\n",
       "        vertical-align: top;\n",
       "    }\n",
       "\n",
       "    .dataframe thead th {\n",
       "        text-align: right;\n",
       "    }\n",
       "</style>\n",
       "<table border=\"1\" class=\"dataframe\">\n",
       "  <thead>\n",
       "    <tr style=\"text-align: right;\">\n",
       "      <th></th>\n",
       "      <th>T</th>\n",
       "      <th>n</th>\n",
       "    </tr>\n",
       "  </thead>\n",
       "  <tbody>\n",
       "    <tr>\n",
       "      <th>T</th>\n",
       "      <td>1.000000</td>\n",
       "      <td>0.833506</td>\n",
       "    </tr>\n",
       "    <tr>\n",
       "      <th>n</th>\n",
       "      <td>0.833506</td>\n",
       "      <td>1.000000</td>\n",
       "    </tr>\n",
       "  </tbody>\n",
       "</table>\n",
       "</div>"
      ],
      "text/plain": [
       "          T         n\n",
       "T  1.000000  0.833506\n",
       "n  0.833506  1.000000"
      ]
     },
     "execution_count": 39,
     "metadata": {},
     "output_type": "execute_result"
    }
   ],
   "source": [
    "def assort_vs_freq(col_name, col_i, m):\n",
    "    start = datetime.now()\n",
    "    E, M = load(\n",
    "        networkfile, \n",
    "        metadatafile, \n",
    "        zero_index=1, \n",
    "        meta_col=col_i,\n",
    "        header=True,\n",
    "        reindex=True,\n",
    "        missing_value=0\n",
    "    )\n",
    "\n",
    "    assortM, assortT, Z = localAssortF(E,M,pr=np.arange(0,1,0.1))\n",
    "    end = datetime.now()\n",
    "    print(f\"Ran multiscale mixing for {col_name} in {(end-start).total_seconds()} seconds.\")\n",
    "    \n",
    "    grps = pd.DataFrame([m[col_name].values, assortT]).T\n",
    "    grps.columns = [col_name, \"T\"]\n",
    "\n",
    "    assort = grps.groupby(col_name)[[\"T\"]].mean()\n",
    "    assort[\"n\"] = grps[col_name].value_counts()\n",
    "    return assort.drop(0)\n",
    "\n",
    "\n",
    "majors = assort_vs_freq(\"major\", 3, m)\n",
    "majors.corr()"
   ]
  },
  {
   "cell_type": "code",
   "execution_count": 40,
   "id": "bdd94b38-2f80-49ac-9b32-488072441b8e",
   "metadata": {},
   "outputs": [
    {
     "data": {
      "text/plain": [
       "<AxesSubplot:xlabel='n', ylabel='T'>"
      ]
     },
     "execution_count": 40,
     "metadata": {},
     "output_type": "execute_result"
    },
    {
     "data": {
      "image/png": "[encoded data removed]",
      "text/plain": [
       "<Figure size 432x288 with 1 Axes>"
      ]
     },
     "metadata": {
      "needs_background": "light"
     },
     "output_type": "display_data"
    }
   ],
   "source": [
    "majors.plot(kind=\"scatter\", x=\"n\", y=\"T\")"
   ]
  },
  {
   "cell_type": "code",
   "execution_count": null,
   "id": "5e7222d3-4f2f-4b92-8d65-a1d70c96e25e",
   "metadata": {},
   "outputs": [],
   "source": []
  },
  {
   "cell_type": "code",
   "execution_count": null,
   "id": "872213e9-bfe5-4d16-a9f0-3271832d2678",
   "metadata": {},
   "outputs": [],
   "source": []
  },
  {
   "cell_type": "code",
   "execution_count": null,
   "id": "5abab71c-4737-48d2-8a28-fe2c2f6864b0",
   "metadata": {},
   "outputs": [],
   "source": []
  },
  {
   "cell_type": "code",
   "execution_count": null,
   "id": "e4cc2dfd-33b7-4fa3-bbb3-ab0e0c3a5f47",
   "metadata": {},
   "outputs": [],
   "source": []
  },
  {
   "cell_type": "code",
   "execution_count": null,
   "id": "1f43f9ce-13b8-416b-8fe0-9ba6accfcec0",
   "metadata": {},
   "outputs": [],
   "source": []
  }
 ],
 "metadata": {
  "kernelspec": {
   "display_name": "Python 3",
   "language": "python",
   "name": "python3"
  },
  "language_info": {
   "codemirror_mode": {
    "name": "ipython",
    "version": 3
   },
   "file_extension": ".py",
   "mimetype": "text/x-python",
   "name": "python",
   "nbconvert_exporter": "python",
   "pygments_lexer": "ipython3",
   "version": "3.9.5"
  }
 },
 "nbformat": 4,
 "nbformat_minor": 5
}
