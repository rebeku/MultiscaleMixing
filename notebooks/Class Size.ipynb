{
 "cells": [
  {
   "cell_type": "markdown",
   "id": "0a5420b7-d6d9-4376-b978-261f377cba48",
   "metadata": {},
   "source": [
    "Assuming fixed in and out group probailities, can we predict multiscale mixing based on group size?\n",
    "\n",
    "For each class, track fraction of dataset and batch_id.  We expect the result to be a quartic equation based on all class sizes.\n",
    "\n",
    "Wait--- can we predict just egh($\\ell$) based on class sizes?  Once we have this the rest is easy ish I think."
   ]
  },
  {
   "cell_type": "code",
   "execution_count": 1,
   "id": "e97e1040-c4ee-4c76-8f38-ecb1cdf7e6cc",
   "metadata": {},
   "outputs": [],
   "source": [
    "from datetime import datetime\n",
    "from lassort import load, localAssortF\n",
    "import networkx as nx\n",
    "import numpy as np\n",
    "import pandas as pd\n",
    "import scipy.sparse as sparse\n",
    "\n",
    "from networkx.generators.community import stochastic_block_model as sbm\n",
    "from lassort.localassort import calculateRWRrange\n",
    "from networkx.algorithms.community import modularity\n",
    "from matplotlib import pyplot as plt"
   ]
  },
  {
   "cell_type": "code",
   "execution_count": 228,
   "id": "ace18518-9dd2-4c53-a29c-c44ec458214b",
   "metadata": {},
   "outputs": [],
   "source": [
    "seed = 777777\n",
    "sizes = [10]*10\n",
    "sizes.append(sum(sizes))\n",
    "\n",
    "thresholds = np.zeros(len(sizes) + 1)\n",
    "thresholds[1:] = sizes\n",
    "\n",
    "for i in range(2, len(thresholds)):\n",
    "    thresholds[i:] += sizes[i-2]\n",
    "\n",
    "thresholds = thresholds.astype(int)\n",
    "\n",
    "C = len(sizes)\n",
    "p = np.ones((C,C)) * 0.05\n",
    "for i in range(C):\n",
    "    p[i,i] = 0.2\n",
    "    \n",
    "G = sbm(sizes, p.tolist(), seed=seed)\n",
    "\n",
    "E = nx.convert_matrix.to_pandas_edgelist(G).values\n",
    "M = np.array([y[\"block\"] for x,y in G.nodes(data=True)]).astype(int)\n",
    "\n",
    "# why is the OG score so okay?  Why aren't GF and GM being diluted into disassortativity?\n",
    "A = nx.convert_matrix.to_scipy_sparse_matrix(G)\n",
    "edgelist = E\n",
    "node_attr = M\n",
    "missingValue = -1\n",
    "\n",
    "# number of nodes\n",
    "n = len(node_attr)\n",
    "# number od nodes with complete attribute\n",
    "ncomp = (node_attr != missingValue).sum()\n",
    "# number of edges\n",
    "m = len(edgelist)\n",
    "degree = np.array(A.sum(1)).flatten()\n",
    "\n",
    "D = sparse.diags(1./degree, 0, format='csc')\n",
    "W = D @ A # every row sums  to 1\n",
    "\n",
    "c = len(np.unique(node_attr))\n",
    "\n",
    "# calculate node weights for how \"complete\" the\n",
    "# metadata is around the node\n",
    "Z = np.zeros(n)\n",
    "Z[node_attr == missingValue] = 1.\n",
    "Z = (W @ Z) / degree\n",
    "\n",
    "# indicator array if node has attribute data (or missing)\n",
    "hasAttribute = node_attr != missingValue\n",
    "\n",
    "# calculate global expected values\n",
    "values = np.ones(ncomp)\n",
    "yi = (hasAttribute).nonzero()[0]\n",
    "yj = node_attr[hasAttribute]\n",
    "Y = sparse.coo_matrix((values, (yi, yj)), shape=(n, c)).tocsc()\n",
    "eij_glob = np.array(Y.T @ (A @ Y).todense())\n",
    "eij_glob /= np.sum(eij_glob)\n",
    "ab_glob = np.sum(eij_glob.sum(1)*eij_glob.sum(0)) # this is ar^2 for undirected\n",
    "\n",
    "pr=np.arange(0., 1., 0.1)\n",
    "\n",
    "assortM = np.empty((n, len(pr)))\n",
    "assortT = np.empty(n)\n",
    "WY = (W @ Y).tocsc()"
   ]
  },
  {
   "cell_type": "code",
   "execution_count": 258,
   "id": "ea95f5c8-449e-409d-9bb8-d582483436a7",
   "metadata": {},
   "outputs": [
    {
     "data": {
      "text/plain": [
       "(200, 10)"
      ]
     },
     "execution_count": 258,
     "metadata": {},
     "output_type": "execute_result"
    }
   ],
   "source": [
    "pis, ti, it = calculateRWRrange(W, 150, pr, n)\n",
    "pis.shape"
   ]
  },
  {
   "cell_type": "code",
   "execution_count": 262,
   "id": "41ca98ef-4076-469f-9f4f-e6ce77fcc98f",
   "metadata": {},
   "outputs": [
    {
     "data": {
      "text/plain": [
       "array([1.22568774e-04, 4.02089997e-04, 2.48936550e-04, 2.73947306e-04,\n",
       "       5.56039603e-04, 3.99285281e-04, 2.11436194e-04, 1.91700967e-04,\n",
       "       2.68712941e-04, 3.05408640e-04, 3.83601157e-04, 1.85215282e-04,\n",
       "       1.51263188e-04, 1.49628296e-04, 3.91927992e-04, 2.50709717e-04,\n",
       "       1.28265924e-04, 1.35390565e-04, 2.33460382e-04, 3.39488290e-04,\n",
       "       7.67032961e-05, 4.12301227e-04, 5.70703920e-04, 3.11948908e-04,\n",
       "       3.05287966e-04, 8.65323517e-05, 1.64265072e-04, 3.32993183e-04,\n",
       "       4.18370567e-04, 2.48767626e-04, 4.55660225e-04, 1.90932403e-04,\n",
       "       7.92684598e-05, 6.39293058e-04, 3.69042079e-04, 6.32372213e-04,\n",
       "       8.25755765e-03, 4.94658103e-04, 7.46878351e-04, 1.78900104e-04,\n",
       "       8.32194944e-03, 1.81356422e-04, 3.92446456e-05, 1.71092633e-04,\n",
       "       2.84874422e-04, 3.49308864e-04, 4.44552755e-05, 2.79980585e-04,\n",
       "       2.10908131e-04, 3.28983161e-04, 5.27620513e-05, 1.78392097e-04,\n",
       "       8.35657419e-03, 8.25305816e-03, 6.57751820e-04, 1.96582914e-04,\n",
       "       9.41445026e-05, 2.64118334e-04, 6.49052411e-05, 2.45767266e-04,\n",
       "       3.28234582e-04, 8.55755433e-05, 8.78576152e-05, 4.57833312e-04,\n",
       "       8.25691571e-03, 1.64716833e-04, 8.36529194e-03, 2.91697620e-04,\n",
       "       7.20097334e-04, 3.27349502e-04, 1.94780415e-04, 8.22918806e-03,\n",
       "       4.05037750e-04, 6.78400691e-04, 2.72589030e-04, 3.76158109e-04,\n",
       "       3.82321471e-04, 8.26194927e-05, 4.57862783e-04, 3.18717960e-04,\n",
       "       1.60639734e-04, 1.93694468e-04, 2.74210261e-04, 3.09330254e-04,\n",
       "       1.59905939e-04, 2.97817635e-04, 3.56618556e-04, 2.91057229e-04,\n",
       "       3.45912470e-04, 2.58059787e-04, 3.76299036e-04, 1.00500619e-03,\n",
       "       3.17697631e-04, 9.31816380e-05, 1.64435624e-04, 6.89818395e-05,\n",
       "       8.30270304e-03, 5.72917339e-05, 8.11194426e-05, 3.52150223e-05])"
      ]
     },
     "execution_count": 262,
     "metadata": {},
     "output_type": "execute_result"
    }
   ],
   "source": [
    "pis[:, 3][:100]"
   ]
  },
  {
   "cell_type": "code",
   "execution_count": 35,
   "id": "90fd5dec-3020-4478-9cd2-5ebd0336a7f3",
   "metadata": {},
   "outputs": [
    {
     "data": {
      "text/plain": [
       "0.00037040958210002723"
      ]
     },
     "execution_count": 35,
     "metadata": {},
     "output_type": "execute_result"
    }
   ],
   "source": [
    "(pis[0]).mean()"
   ]
  },
  {
   "cell_type": "code",
   "execution_count": 36,
   "id": "dbc3eebf-f51d-4323-9afe-f97e37f5ef32",
   "metadata": {},
   "outputs": [
    {
     "data": {
      "text/plain": [
       "0.000423194203233852"
      ]
     },
     "execution_count": 36,
     "metadata": {},
     "output_type": "execute_result"
    }
   ],
   "source": [
    "ti[0]"
   ]
  },
  {
   "cell_type": "code",
   "execution_count": 37,
   "id": "9dfb05cd-4abc-40ef-9023-15521e7046b1",
   "metadata": {},
   "outputs": [
    {
     "data": {
      "text/plain": [
       "0.0014940390109100458"
      ]
     },
     "execution_count": 37,
     "metadata": {},
     "output_type": "execute_result"
    }
   ],
   "source": [
    "(pis[10]).mean()"
   ]
  },
  {
   "cell_type": "code",
   "execution_count": 39,
   "id": "91c29503-b38a-4e67-a6d9-68012d9e99d5",
   "metadata": {},
   "outputs": [
    {
     "data": {
      "text/plain": [
       "0.0017304212337004262"
      ]
     },
     "execution_count": 39,
     "metadata": {},
     "output_type": "execute_result"
    }
   ],
   "source": [
    "ti[10]"
   ]
  },
  {
   "cell_type": "code",
   "execution_count": 40,
   "id": "2169ecec-3a3b-4f5a-8d9b-c89046109397",
   "metadata": {},
   "outputs": [
    {
     "data": {
      "text/plain": [
       "0.002179727747765303"
      ]
     },
     "execution_count": 40,
     "metadata": {},
     "output_type": "execute_result"
    }
   ],
   "source": [
    "(pis[100]).mean()"
   ]
  },
  {
   "cell_type": "code",
   "execution_count": 41,
   "id": "aaa561c0-ea7f-4a52-91fa-a86e6ccd05c2",
   "metadata": {},
   "outputs": [
    {
     "data": {
      "text/plain": [
       "0.0025879116969980986"
      ]
     },
     "execution_count": 41,
     "metadata": {},
     "output_type": "execute_result"
    }
   ],
   "source": [
    "ti[100]"
   ]
  },
  {
   "cell_type": "code",
   "execution_count": 49,
   "id": "3fa79e75-5ebf-4418-bcdf-94af3afc9522",
   "metadata": {},
   "outputs": [
    {
     "data": {
      "text/plain": [
       "0.5557466998590959"
      ]
     },
     "execution_count": 49,
     "metadata": {},
     "output_type": "execute_result"
    }
   ],
   "source": [
    "pis[-1].mean()"
   ]
  },
  {
   "cell_type": "code",
   "execution_count": 53,
   "id": "ffc1e7fb-2a83-4ca3-93f4-d635f43e6fa0",
   "metadata": {},
   "outputs": [
    {
     "data": {
      "text/plain": [
       "0.506385222065662"
      ]
     },
     "execution_count": 53,
     "metadata": {},
     "output_type": "execute_result"
    }
   ],
   "source": [
    "pis[-1,1:].mean()"
   ]
  },
  {
   "cell_type": "code",
   "execution_count": 51,
   "id": "d3f67d44-b081-4a79-a916-47aff907d9e6",
   "metadata": {},
   "outputs": [
    {
     "data": {
      "text/plain": [
       "0.5062048151528157"
      ]
     },
     "execution_count": 51,
     "metadata": {},
     "output_type": "execute_result"
    }
   ],
   "source": [
    "ti[-1]"
   ]
  },
  {
   "cell_type": "code",
   "execution_count": 55,
   "id": "b79c5a6d-d89b-4f23-bb81-6d7331fc8bf0",
   "metadata": {},
   "outputs": [
    {
     "data": {
      "text/plain": [
       "199"
      ]
     },
     "execution_count": 55,
     "metadata": {},
     "output_type": "execute_result"
    }
   ],
   "source": [
    "i"
   ]
  },
  {
   "cell_type": "code",
   "execution_count": 56,
   "id": "8f852974-efb4-41c9-a12c-e94f0a2d4fcf",
   "metadata": {},
   "outputs": [
    {
     "data": {
      "text/plain": [
       "array([-5.27846211e-05, -1.83602242e-04, -1.85142116e-04, -1.44401506e-04,\n",
       "       -6.75806138e-05, -2.64058334e-04, -2.13671211e-04, -1.04502669e-04,\n",
       "       -1.09478102e-04, -1.53029932e-04, -2.36382223e-04, -2.15176607e-04,\n",
       "       -1.02435527e-04, -1.20815031e-04, -1.30617649e-04, -1.45736330e-04,\n",
       "       -2.48931782e-04, -9.18018588e-05, -1.02780012e-04, -1.44389081e-04,\n",
       "       -1.43645853e-04, -1.43335652e-04, -2.38797496e-04, -1.69772385e-04,\n",
       "       -1.85871007e-04, -1.42512459e-04, -1.05020235e-04, -2.04807051e-04,\n",
       "       -1.68975594e-04, -1.66820780e-04, -2.89642745e-04, -1.57554175e-04,\n",
       "       -1.44685795e-04, -1.43771500e-04, -1.16626705e-04, -2.43509590e-04,\n",
       "       -1.42018683e-04, -1.29484493e-04, -2.33916879e-04, -1.58342023e-04,\n",
       "       -1.29600073e-04, -1.72943763e-04, -6.42194340e-05, -1.56065500e-04,\n",
       "       -9.14732964e-05, -8.95504399e-05, -9.00061362e-05, -1.31252463e-04,\n",
       "       -1.59085944e-04, -1.91183530e-04, -8.84275344e-05, -6.36172290e-05,\n",
       "       -2.16077009e-04, -2.06297771e-04, -1.40588112e-04, -1.79856813e-04,\n",
       "       -1.41946470e-04, -1.93202771e-04, -1.54107168e-04, -1.80720614e-04,\n",
       "       -1.30269848e-04, -1.14111594e-04, -1.55110898e-04, -1.40024443e-04,\n",
       "       -2.21706170e-04, -5.32891958e-05, -1.67170042e-04, -1.44029082e-04,\n",
       "       -1.56778136e-04, -1.31158641e-04, -8.90075466e-05, -1.57631736e-04,\n",
       "       -2.08848986e-04, -1.69623839e-04, -1.56526667e-04, -2.26158620e-04,\n",
       "       -9.27102408e-05, -1.42422605e-04, -1.69027016e-04, -9.41477780e-05,\n",
       "       -1.43809712e-04, -1.69727109e-04, -2.10504757e-04, -1.58446133e-04,\n",
       "       -7.79187188e-05, -2.40596569e-04, -1.74149655e-04, -1.03426207e-04,\n",
       "       -1.68851057e-04, -1.16048649e-04, -2.09759868e-04, -2.48656612e-04,\n",
       "       -1.55468611e-04, -1.71128959e-04, -1.72742203e-04, -1.43170512e-04,\n",
       "       -1.27905476e-04, -1.05991655e-04, -1.98941060e-04, -6.24967763e-05,\n",
       "       -4.08183949e-04, -2.63261052e-04, -3.18542391e-04, -2.88657458e-04,\n",
       "       -3.97796412e-04, -4.12420794e-04, -2.64654230e-04, -2.88479438e-04,\n",
       "       -3.32852825e-04, -3.71433466e-04, -3.45414445e-04, -4.12952702e-04,\n",
       "       -4.08946954e-04, -2.79043871e-04, -2.90097930e-04, -3.45269405e-04,\n",
       "       -3.66268041e-04, -3.67494619e-04, -3.46077716e-04, -3.67681742e-04,\n",
       "       -4.12783286e-04, -2.25753610e-04, -2.63412399e-04, -2.50440582e-04,\n",
       "       -3.26557833e-04, -3.81680791e-04, -2.91507623e-04, -3.57577103e-04,\n",
       "       -3.03392316e-04, -3.81252779e-04, -4.22861394e-04, -2.55312145e-04,\n",
       "       -3.04068652e-04, -4.24527926e-04, -3.07729350e-04, -2.39679909e-04,\n",
       "       -4.91349975e-04, -2.77366079e-04, -3.25467231e-04, -4.55465118e-04,\n",
       "       -3.51041828e-04, -3.20683157e-04, -3.42930041e-04, -2.61780324e-04,\n",
       "       -3.44651746e-04, -3.68063700e-04, -3.16323368e-04, -5.20752316e-04,\n",
       "       -3.47494297e-04, -3.34484175e-04, -3.42744883e-04, -2.80370454e-04,\n",
       "       -3.32647448e-04, -4.93025520e-04, -2.62846413e-04, -2.85090218e-04,\n",
       "       -2.11071077e-04, -5.19355449e-04, -3.33807089e-04, -4.33851573e-04,\n",
       "       -2.18176674e-04, -4.09242396e-04, -3.16259632e-04, -3.98070629e-04,\n",
       "       -3.18041573e-04, -2.79668225e-04, -2.88482426e-04, -4.04878385e-04,\n",
       "       -2.63220018e-04, -3.53665151e-04, -3.40843020e-04, -4.38238336e-04,\n",
       "       -3.84329273e-04, -3.27779667e-04, -2.64220849e-04, -3.71584747e-04,\n",
       "       -4.19058585e-04, -4.30415080e-04, -3.14274514e-04, -2.53078019e-04,\n",
       "       -3.75317766e-04, -3.73880927e-04, -4.08550186e-04, -3.46812244e-04,\n",
       "       -3.08448924e-04, -2.99314055e-04, -3.82647035e-04, -3.10214125e-04,\n",
       "       -5.03436240e-04, -3.69488610e-04, -4.21929052e-04, -4.42664399e-04,\n",
       "       -2.91334651e-04, -3.21541611e-04, -3.06526170e-04, -2.69412506e-04,\n",
       "       -3.17998271e-04, -3.43160440e-04, -4.12805675e-04,  4.95418847e-02])"
      ]
     },
     "execution_count": 56,
     "metadata": {},
     "output_type": "execute_result"
    }
   ],
   "source": [
    "pis.mean(axis=1) - ti"
   ]
  },
  {
   "cell_type": "markdown",
   "id": "32898864-69c4-4432-b08b-b6c9ef63b2e2",
   "metadata": {},
   "source": [
    "Seems like the mean is a good enough approximation for everything EXCEPT node i itself.  We can easily get an expectation for totalRank if we know the pagerank values."
   ]
  },
  {
   "cell_type": "code",
   "execution_count": 57,
   "id": "60399e45-c904-4ecb-9f24-d6f5950da1b2",
   "metadata": {},
   "outputs": [
    {
     "data": {
      "text/plain": [
       "array([[0.2 , 0.05, 0.05, 0.05, 0.05, 0.05, 0.05, 0.05, 0.05, 0.05, 0.05],\n",
       "       [0.05, 0.2 , 0.05, 0.05, 0.05, 0.05, 0.05, 0.05, 0.05, 0.05, 0.05],\n",
       "       [0.05, 0.05, 0.2 , 0.05, 0.05, 0.05, 0.05, 0.05, 0.05, 0.05, 0.05],\n",
       "       [0.05, 0.05, 0.05, 0.2 , 0.05, 0.05, 0.05, 0.05, 0.05, 0.05, 0.05],\n",
       "       [0.05, 0.05, 0.05, 0.05, 0.2 , 0.05, 0.05, 0.05, 0.05, 0.05, 0.05],\n",
       "       [0.05, 0.05, 0.05, 0.05, 0.05, 0.2 , 0.05, 0.05, 0.05, 0.05, 0.05],\n",
       "       [0.05, 0.05, 0.05, 0.05, 0.05, 0.05, 0.2 , 0.05, 0.05, 0.05, 0.05],\n",
       "       [0.05, 0.05, 0.05, 0.05, 0.05, 0.05, 0.05, 0.2 , 0.05, 0.05, 0.05],\n",
       "       [0.05, 0.05, 0.05, 0.05, 0.05, 0.05, 0.05, 0.05, 0.2 , 0.05, 0.05],\n",
       "       [0.05, 0.05, 0.05, 0.05, 0.05, 0.05, 0.05, 0.05, 0.05, 0.2 , 0.05],\n",
       "       [0.05, 0.05, 0.05, 0.05, 0.05, 0.05, 0.05, 0.05, 0.05, 0.05, 0.2 ]])"
      ]
     },
     "execution_count": 57,
     "metadata": {},
     "output_type": "execute_result"
    }
   ],
   "source": [
    "p"
   ]
  },
  {
   "cell_type": "markdown",
   "id": "38dc086f-f8ed-45f3-9c81-c690ff4ffe67",
   "metadata": {},
   "source": [
    "# Test out approximtation of PPR\n",
    "from this paper: \n",
    "https://arxiv.org/pdf/1910.12937.pdf"
   ]
  },
  {
   "cell_type": "code",
   "execution_count": 210,
   "id": "341506fa-04d1-4dc5-95be-694a8efa1f32",
   "metadata": {},
   "outputs": [
    {
     "data": {
      "text/plain": [
       "array([[0.31858407, 0.04424779, 0.04424779, 0.04424779, 0.04424779,\n",
       "        0.04424779, 0.04424779, 0.04424779, 0.04424779, 0.04424779,\n",
       "        0.44247788],\n",
       "       [0.04424779, 0.31858407, 0.04424779, 0.04424779, 0.04424779,\n",
       "        0.04424779, 0.04424779, 0.04424779, 0.04424779, 0.04424779,\n",
       "        0.44247788],\n",
       "       [0.04424779, 0.04424779, 0.31858407, 0.04424779, 0.04424779,\n",
       "        0.04424779, 0.04424779, 0.04424779, 0.04424779, 0.04424779,\n",
       "        0.44247788],\n",
       "       [0.04424779, 0.04424779, 0.04424779, 0.31858407, 0.04424779,\n",
       "        0.04424779, 0.04424779, 0.04424779, 0.04424779, 0.04424779,\n",
       "        0.44247788],\n",
       "       [0.04424779, 0.04424779, 0.04424779, 0.04424779, 0.31858407,\n",
       "        0.04424779, 0.04424779, 0.04424779, 0.04424779, 0.04424779,\n",
       "        0.44247788],\n",
       "       [0.04424779, 0.04424779, 0.04424779, 0.04424779, 0.04424779,\n",
       "        0.31858407, 0.04424779, 0.04424779, 0.04424779, 0.04424779,\n",
       "        0.44247788],\n",
       "       [0.04424779, 0.04424779, 0.04424779, 0.04424779, 0.04424779,\n",
       "        0.04424779, 0.31858407, 0.04424779, 0.04424779, 0.04424779,\n",
       "        0.44247788],\n",
       "       [0.04424779, 0.04424779, 0.04424779, 0.04424779, 0.04424779,\n",
       "        0.04424779, 0.04424779, 0.31858407, 0.04424779, 0.04424779,\n",
       "        0.44247788],\n",
       "       [0.04424779, 0.04424779, 0.04424779, 0.04424779, 0.04424779,\n",
       "        0.04424779, 0.04424779, 0.04424779, 0.31858407, 0.04424779,\n",
       "        0.44247788],\n",
       "       [0.04424779, 0.04424779, 0.04424779, 0.04424779, 0.04424779,\n",
       "        0.04424779, 0.04424779, 0.04424779, 0.04424779, 0.31858407,\n",
       "        0.44247788],\n",
       "       [0.02016129, 0.02016129, 0.02016129, 0.02016129, 0.02016129,\n",
       "        0.02016129, 0.02016129, 0.02016129, 0.02016129, 0.02016129,\n",
       "        1.59677419]])"
      ]
     },
     "execution_count": 210,
     "metadata": {},
     "output_type": "execute_result"
    }
   ],
   "source": [
    "sizes = np.array(sizes)\n",
    "\n",
    "# mixing matrix for DC-SBM from SBM\n",
    "B = np.outer(sizes, sizes)\n",
    "\n",
    "for i in range(C):\n",
    "    s = sizes[i]\n",
    "    B[i,i] = s * (s-1) * 2\n",
    "\n",
    "B = B * p\n",
    "\n",
    "\n",
    "# Expected total degree of each grp\n",
    "theta = np.hstack([\n",
    "    np.ones(sizes[i])*(1/sizes[i]) for i in range(len(sizes))])\n",
    "\n",
    "# compute the diagonal degree matrix *D*\n",
    "E = np.outer(sizes, sizes)\n",
    "\n",
    "for i in range(C):\n",
    "    s = sizes[i]\n",
    "    E[i,i] = s * (s-1)\n",
    "\n",
    "Dinv = np.diag(1/(E * p).sum(axis=1))\n",
    "\n",
    "# block transition matrix\n",
    "P = Dinv @ B\n",
    "P"
   ]
  },
  {
   "cell_type": "code",
   "execution_count": 251,
   "id": "2cc40bac-d7e6-4f76-b3d3-e7cb83989f18",
   "metadata": {},
   "outputs": [
    {
     "data": {
      "text/plain": [
       "matrix([[ 0.23309735, -0.00929204, -0.00929204, -0.00929204, -0.00929204,\n",
       "         -0.00929204, -0.00929204, -0.00929204, -0.00929204, -0.00929204,\n",
       "         -0.09292035]])"
      ]
     },
     "execution_count": 251,
     "metadata": {},
     "output_type": "execute_result"
    }
   ],
   "source": [
    "# Z is block membership matrix\n",
    "Z = Y.todense()\n",
    "\n",
    "# fix source node of PPR for now\n",
    "u = 7\n",
    "alpha = 0.3\n",
    "\n",
    "\n",
    "pi = np.zeros(n)\n",
    "pi[u] = 1\n",
    "\n",
    "alpha_pi_t = pi @ Z * alpha\n",
    "\n",
    "inv_transform = np.eye(C) - (1-alpha)*P\n",
    "p = alpha_pi_t @ inv_transform\n",
    "\n",
    "# blockwise PPR vector\n",
    "p"
   ]
  },
  {
   "cell_type": "code",
   "execution_count": 253,
   "id": "dda64ab7-fc1e-4eab-bf57-2c0d784f1c29",
   "metadata": {},
   "outputs": [
    {
     "data": {
      "text/plain": [
       "matrix([[ 2.33097345e-03, -9.29203540e-05, -9.29203540e-05,\n",
       "         -9.29203540e-05, -9.29203540e-05, -9.29203540e-05,\n",
       "         -9.29203540e-05, -9.29203540e-05, -9.29203540e-05,\n",
       "         -9.29203540e-05, -9.29203540e-04]])"
      ]
     },
     "execution_count": 253,
     "metadata": {},
     "output_type": "execute_result"
    }
   ],
   "source": [
    "p / sizes[i]"
   ]
  },
  {
   "cell_type": "code",
   "execution_count": 265,
   "id": "014188b0-ca4d-4a78-8fc4-e52ee84ddaf7",
   "metadata": {},
   "outputs": [
    {
     "data": {
      "text/plain": [
       "0.002348950792826754"
      ]
     },
     "execution_count": 265,
     "metadata": {},
     "output_type": "execute_result"
    }
   ],
   "source": [
    "pis[:, 3][10:20].sum()"
   ]
  },
  {
   "cell_type": "code",
   "execution_count": 266,
   "id": "a7f6427f-ecfe-4912-afa2-75e9e82a6471",
   "metadata": {},
   "outputs": [
    {
     "data": {
      "text/plain": [
       "0.002927874116463403"
      ]
     },
     "execution_count": 266,
     "metadata": {},
     "output_type": "execute_result"
    }
   ],
   "source": [
    "pis[:, 3][20:30].sum()"
   ]
  },
  {
   "cell_type": "code",
   "execution_count": 267,
   "id": "b5431b26-ee1c-4d93-b304-1104c9e08c25",
   "metadata": {},
   "outputs": [
    {
     "data": {
      "text/plain": [
       "0.012044562643869054"
      ]
     },
     "execution_count": 267,
     "metadata": {},
     "output_type": "execute_result"
    }
   ],
   "source": [
    "pis[:, 3][30:40].sum()"
   ]
  },
  {
   "cell_type": "code",
   "execution_count": 268,
   "id": "5538bfa2-822a-40fc-a188-7f8f21d886b6",
   "metadata": {},
   "outputs": [
    {
     "data": {
      "text/plain": [
       "0.010212153583029342"
      ]
     },
     "execution_count": 268,
     "metadata": {},
     "output_type": "execute_result"
    }
   ],
   "source": [
    "pis[:, 3][40:50].sum()"
   ]
  },
  {
   "cell_type": "code",
   "execution_count": 269,
   "id": "95fd739d-c042-439c-a249-50c366418ead",
   "metadata": {},
   "outputs": [
    {
     "data": {
      "text/plain": [
       "0.018364056581048532"
      ]
     },
     "execution_count": 269,
     "metadata": {},
     "output_type": "execute_result"
    }
   ],
   "source": [
    "pis[:, 3][50:60].sum()"
   ]
  },
  {
   "cell_type": "markdown",
   "id": "1dfaa364-33a1-4185-a2f0-7f7498cf91e9",
   "metadata": {},
   "source": [
    "Mmmmmmm is this network just way too small for this to be a good approximation?  I think so.\n",
    "\n",
    "Can we still use this algorithm to get an expectation for the multiscale mixing?  Possibly.\n",
    "\n",
    "TODO: Figure out how to validate this.  Possibly just bigger SBM.\n",
    "\n",
    "Next steps:\n",
    "\n",
    "1. Integrate out alpha\n",
    "2. Compute expected $e_{gh}(\\ell)$ and mulitscale mixing.\n",
    "3. Does this look better than individual PPR vectors?"
   ]
  },
  {
   "cell_type": "code",
   "execution_count": null,
   "id": "5cf15f45-26f5-4aef-b77b-23628ecf7df5",
   "metadata": {},
   "outputs": [],
   "source": []
  },
  {
   "cell_type": "code",
   "execution_count": null,
   "id": "c851ed71-fae9-4bcd-a9dd-1aac183c061c",
   "metadata": {},
   "outputs": [],
   "source": []
  },
  {
   "cell_type": "code",
   "execution_count": null,
   "id": "37f9d08a-c97e-4302-9591-8ac708ddcdb8",
   "metadata": {},
   "outputs": [],
   "source": []
  },
  {
   "cell_type": "code",
   "execution_count": null,
   "id": "5a1ba781-7b66-4bbe-993c-8e48c5cf9650",
   "metadata": {},
   "outputs": [],
   "source": []
  },
  {
   "cell_type": "code",
   "execution_count": null,
   "id": "90caf32b-5df7-4e5e-899e-2ed4a9831123",
   "metadata": {},
   "outputs": [],
   "source": []
  },
  {
   "cell_type": "code",
   "execution_count": null,
   "id": "4bf99ab4-cbc6-48aa-9182-bc559760817c",
   "metadata": {},
   "outputs": [],
   "source": []
  },
  {
   "cell_type": "code",
   "execution_count": null,
   "id": "bd6304be-2f28-410a-ba5c-f47871286355",
   "metadata": {},
   "outputs": [],
   "source": []
  },
  {
   "cell_type": "code",
   "execution_count": null,
   "id": "43c13cac-fdaf-4dee-a78e-2b7efbf619cf",
   "metadata": {},
   "outputs": [],
   "source": []
  },
  {
   "cell_type": "code",
   "execution_count": null,
   "id": "3bc537e5-7f08-417f-b4c2-29e2d3f30a22",
   "metadata": {},
   "outputs": [],
   "source": []
  },
  {
   "cell_type": "code",
   "execution_count": null,
   "id": "818dd28f-4fc8-45d0-9d5c-0e416187baee",
   "metadata": {},
   "outputs": [],
   "source": []
  },
  {
   "cell_type": "code",
   "execution_count": null,
   "id": "aacb5524-4ed6-4a58-87d3-6c680d8c3a9a",
   "metadata": {},
   "outputs": [],
   "source": []
  },
  {
   "cell_type": "code",
   "execution_count": null,
   "id": "abff3c1e-33e3-4cad-bb38-eb48b42dfce7",
   "metadata": {},
   "outputs": [],
   "source": []
  },
  {
   "cell_type": "code",
   "execution_count": 198,
   "id": "eee6ac5c-b999-4625-81f4-fa5749cd9b73",
   "metadata": {},
   "outputs": [
    {
     "data": {
      "text/plain": [
       "3658"
      ]
     },
     "execution_count": 198,
     "metadata": {},
     "output_type": "execute_result"
    }
   ],
   "source": [
    "A.sum()"
   ]
  },
  {
   "cell_type": "code",
   "execution_count": 200,
   "id": "fc8e7aaf-2700-4698-b3f3-94ba1ed370f2",
   "metadata": {},
   "outputs": [
    {
     "data": {
      "text/plain": [
       "array([ 113.,  113.,  113.,  113.,  113.,  113.,  113.,  113.,  113.,\n",
       "        113., 2480.])"
      ]
     },
     "execution_count": 200,
     "metadata": {},
     "output_type": "execute_result"
    }
   ],
   "source": [
    "# I think this is all a mistake\n",
    "\n"
   ]
  }
 ],
 "metadata": {
  "kernelspec": {
   "display_name": "Python 3",
   "language": "python",
   "name": "python3"
  },
  "language_info": {
   "codemirror_mode": {
    "name": "ipython",
    "version": 3
   },
   "file_extension": ".py",
   "mimetype": "text/x-python",
   "name": "python",
   "nbconvert_exporter": "python",
   "pygments_lexer": "ipython3",
   "version": "3.9.5"
  }
 },
 "nbformat": 4,
 "nbformat_minor": 5
}
