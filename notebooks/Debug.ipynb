{
 "cells": [
  {
   "cell_type": "markdown",
   "id": "d9fad4d8-b151-4807-bdc5-2196c63486eb",
   "metadata": {},
   "source": [
    "Why  do multiscale mixing scores seem to go down to -inf when from the paper it seems like they should be between 0 and 1?  Let's take a network with a very negative multiscale mixing score and figure out what's happening."
   ]
  },
  {
   "cell_type": "code",
   "execution_count": 1,
   "id": "609e9c64-d8de-4745-a844-a1e55c5f6b10",
   "metadata": {},
   "outputs": [],
   "source": [
    "from datetime import datetime\n",
    "from lassort.localassort import calculateRWRrange\n",
    "import networkx as nx\n",
    "import numpy as np\n",
    "import pandas as pd\n",
    "\n",
    "from networkx.generators.community import stochastic_block_model as sbm\n",
    "from networkx.algorithms.community import modularity\n",
    "from matplotlib import pyplot as plt\n",
    "import scipy.sparse as sparse"
   ]
  },
  {
   "cell_type": "code",
   "execution_count": 14,
   "id": "e32a3b00-2b9b-4f85-8773-3869267b1b9e",
   "metadata": {},
   "outputs": [],
   "source": [
    "N = 800\n",
    "p = [[.1,.05], [.05, .1]]\n",
    "s0 = 20\n",
    "\n",
    "sizes = [s0, N - s0]\n",
    "G = sbm(sizes, p)\n",
    "A = nx.convert_matrix.to_scipy_sparse_matrix(G)\n",
    "edgelist = nx.convert_matrix.to_pandas_edgelist(G).values\n",
    "node_attr = np.hstack([np.zeros(sizes[0]), np.ones(sizes[1])])\n",
    "\n",
    "missingValue = -1"
   ]
  },
  {
   "cell_type": "code",
   "execution_count": 21,
   "id": "7e0a57d6-e882-4b3f-af16-8f3b91d13480",
   "metadata": {},
   "outputs": [],
   "source": [
    "\n",
    "\n",
    "# number of nodes\n",
    "n = len(node_attr)\n",
    "# number od nodes with complete attribute\n",
    "ncomp = (node_attr != missingValue).sum()\n",
    "# number of edges\n",
    "m = len(edgelist)\n",
    "degree = np.array(A.sum(1)).flatten()\n",
    "\n",
    "D = sparse.diags(1./degree, 0, format='csc')\n",
    "W = D @ A # every row sums  to 1\n",
    "\n",
    "c = len(np.unique(node_attr))"
   ]
  },
  {
   "cell_type": "code",
   "execution_count": 22,
   "id": "0918b5fc-3daf-44e8-b1b8-f4f58346ff3e",
   "metadata": {},
   "outputs": [],
   "source": [
    "# calculate node weights for how \"complete\" the\n",
    "# metadata is around the node\n",
    "Z = np.zeros(n)\n",
    "Z[node_attr == missingValue] = 1.\n",
    "Z = (W @ Z) / degree\n",
    "\n",
    "# indicator array if node has attribute data (or missing)\n",
    "hasAttribute = node_attr != missingValue\n"
   ]
  },
  {
   "cell_type": "code",
   "execution_count": 35,
   "id": "ce4e8d6d-4503-42b3-934d-7b10abee2764",
   "metadata": {},
   "outputs": [],
   "source": [
    "# calculate global expected values\n",
    "values = np.ones(ncomp)\n",
    "yi = (hasAttribute).nonzero()[0]\n",
    "yj = node_attr[hasAttribute]\n",
    "Y = sparse.coo_matrix((values, (yi, yj)), shape=(n, c)).tocsc()\n",
    "eij_glob = np.array(Y.T @ (A @ Y).todense())\n",
    "eij_glob /= np.sum(eij_glob)\n",
    "ab_glob = np.sum(eij_glob.sum(1)*eij_glob.sum(0)) # this is ar^2 for undirected"
   ]
  },
  {
   "cell_type": "code",
   "execution_count": 36,
   "id": "7955fcae-d12d-4585-9815-aede45165d3b",
   "metadata": {},
   "outputs": [
    {
     "data": {
      "text/plain": [
       "0.9758403120359327"
      ]
     },
     "execution_count": 36,
     "metadata": {},
     "output_type": "execute_result"
    }
   ],
   "source": [
    "ab_glob"
   ]
  },
  {
   "cell_type": "code",
   "execution_count": 37,
   "id": "c442cbaf-2731-4647-b6fa-accef943f2e0",
   "metadata": {},
   "outputs": [
    {
     "data": {
      "text/plain": [
       "array([[5.49273021e-04, 1.16801292e-02],\n",
       "       [1.16801292e-02, 9.76090468e-01]])"
      ]
     },
     "execution_count": 37,
     "metadata": {},
     "output_type": "execute_result"
    }
   ],
   "source": [
    "eij_glob"
   ]
  },
  {
   "cell_type": "code",
   "execution_count": 40,
   "id": "215a2a63-f6e6-4436-98f0-9b377c2873c8",
   "metadata": {},
   "outputs": [],
   "source": [
    "pr=np.arange(0., 1., 0.1)\n",
    "\n",
    "assortM = np.empty((n, len(pr)))\n",
    "assortT = np.empty(n)"
   ]
  },
  {
   "cell_type": "code",
   "execution_count": 48,
   "id": "ac72f8fb-18fe-4e87-b72a-02220853a1b1",
   "metadata": {},
   "outputs": [
    {
     "data": {
      "text/plain": [
       "(800, 2)"
      ]
     },
     "execution_count": 48,
     "metadata": {},
     "output_type": "execute_result"
    }
   ],
   "source": [
    "WY = (W @ Y).tocsc()\n",
    "WY.shape"
   ]
  },
  {
   "cell_type": "code",
   "execution_count": 50,
   "id": "3dccc7f0-338d-49b5-b23c-dd83f449bbe2",
   "metadata": {},
   "outputs": [
    {
     "data": {
      "text/plain": [
       "matrix([[0.0625    , 0.9375    ],\n",
       "        [0.02564103, 0.97435897],\n",
       "        [0.        , 1.        ],\n",
       "        ...,\n",
       "        [0.03529412, 0.96470588],\n",
       "        [0.        , 1.        ],\n",
       "        [0.        , 1.        ]])"
      ]
     },
     "execution_count": 50,
     "metadata": {},
     "output_type": "execute_result"
    }
   ],
   "source": [
    "# WY[:,0] contains fraction of neighbors in grp 0\n",
    "# likewise for 1\n",
    "WY.todense()"
   ]
  },
  {
   "cell_type": "code",
   "execution_count": null,
   "id": "5587e065-18c6-4d04-8a43-9035726f23eb",
   "metadata": {},
   "outputs": [],
   "source": []
  },
  {
   "cell_type": "code",
   "execution_count": 83,
   "id": "df144644-b877-483c-8c41-a4064e02acfb",
   "metadata": {},
   "outputs": [],
   "source": [
    "i = 0\n",
    "\n",
    "# calculate for first node\n",
    "pis, ti, it = calculateRWRrange(W, i, pr, n)\n",
    "if len(pr) > 1:\n",
    "    for ii, pri in enumerate(pr):\n",
    "        pi = pis[:, ii]\n",
    "\n",
    "        YPI = sparse.coo_matrix((pi[hasAttribute],\n",
    "                                (node_attr[hasAttribute],\n",
    "                                 np.arange(n)[hasAttribute])),\n",
    "                                shape=(c, n)).tocsr()\n",
    "\n",
    "        e = YPI.dot(WY).toarray()\n",
    "        assortM[i, ii] = e.trace()"
   ]
  },
  {
   "cell_type": "code",
   "execution_count": 102,
   "id": "dc219de9-420d-42f0-b0c3-ea0cb1f3be8e",
   "metadata": {},
   "outputs": [
    {
     "data": {
      "text/plain": [
       "array([[0.00715489, 0.1095096 ],\n",
       "       [0.01133744, 0.87199807]])"
      ]
     },
     "execution_count": 102,
     "metadata": {},
     "output_type": "execute_result"
    }
   ],
   "source": [
    "e"
   ]
  },
  {
   "cell_type": "markdown",
   "id": "bc4a1bb2-ee06-4f83-a60a-8e5e84cd5163",
   "metadata": {},
   "source": [
    "Why isn't e symmetric?  The fraction of neighbors of nodes in group 0 that are in group 1 vs. the fraction of neighbors of nodes in group1 that are in group 0 are only equal if the total number of edges are equal."
   ]
  },
  {
   "cell_type": "code",
   "execution_count": 135,
   "id": "4fbf1724-e442-48c3-a673-1167f6a9d8e6",
   "metadata": {},
   "outputs": [
    {
     "data": {
      "text/plain": [
       "0.7938922213590471"
      ]
     },
     "execution_count": 135,
     "metadata": {},
     "output_type": "execute_result"
    }
   ],
   "source": [
    "a = e.sum(axis=1)\n",
    "(a**2).sum()"
   ]
  },
  {
   "cell_type": "code",
   "execution_count": 137,
   "id": "2e460fe6-7883-493c-a5f9-ef20cfcb7f2a",
   "metadata": {},
   "outputs": [
    {
     "data": {
      "text/plain": [
       "0.08526073962119551"
      ]
     },
     "execution_count": 137,
     "metadata": {},
     "output_type": "execute_result"
    }
   ],
   "source": [
    "i = 0\n",
    "\n",
    "# calculate for first node\n",
    "pis, ti, it = calculateRWRrange(W, i, pr, n)\n",
    "if len(pr) > 1:\n",
    "    for ii, pri in enumerate(pr):\n",
    "        pi = pis[:, ii]\n",
    "\n",
    "        YPI = sparse.coo_matrix((pi[hasAttribute],\n",
    "                                (node_attr[hasAttribute],\n",
    "                                 np.arange(n)[hasAttribute])),\n",
    "                                shape=(c, n)).tocsr()\n",
    "\n",
    "        e = YPI.dot(WY).toarray()\n",
    "        a2 = (e.sum(axis=1)**2).sum()\n",
    "        assortM[i, ii] = e.trace() - a2\n",
    "\n",
    "assortM[i, ii]"
   ]
  },
  {
   "cell_type": "code",
   "execution_count": 128,
   "id": "deed3b2e-7250-4928-8a50-d8db5044372b",
   "metadata": {},
   "outputs": [
    {
     "data": {
      "text/plain": [
       "0.046018302108048886"
      ]
     },
     "execution_count": 128,
     "metadata": {},
     "output_type": "execute_result"
    }
   ],
   "source": [
    "A.dot(YPI.T)"
   ]
  },
  {
   "cell_type": "code",
   "execution_count": 130,
   "id": "bc58ef41-8c9a-4292-a523-23f0e21d6bb4",
   "metadata": {},
   "outputs": [
    {
     "data": {
      "text/plain": [
       "1.0"
      ]
     },
     "execution_count": 130,
     "metadata": {},
     "output_type": "execute_result"
    }
   ],
   "source": [
    "YPI.sum()"
   ]
  },
  {
   "cell_type": "code",
   "execution_count": 138,
   "id": "82984116-a55f-4121-a1f3-2ccd19d567c1",
   "metadata": {},
   "outputs": [],
   "source": [
    "# this looks normal.  Let's run 'em all\n",
    "for i in range(n):\n",
    "    pis, ti, it = calculateRWRrange(W, i, pr, n)\n",
    "    if len(pr) > 1:\n",
    "        for ii, pri in enumerate(pr):\n",
    "            pi = pis[:, ii]\n",
    "\n",
    "            YPI = sparse.coo_matrix((pi[hasAttribute],\n",
    "                                    (node_attr[hasAttribute],\n",
    "                                     np.arange(n)[hasAttribute])),\n",
    "                                    shape=(c, n)).tocsr()\n",
    "            e = YPI.dot(WY).toarray()\n",
    "            a2 = (e.sum(axis=1)**2).sum()\n",
    "            assortM[i, ii] = e.trace() - a2\n",
    "\n",
    "\n",
    "    YPI = sparse.coo_matrix((ti[hasAttribute], (node_attr[hasAttribute],\n",
    "                            np.arange(n)[hasAttribute])),\n",
    "                            shape=(c, n)).tocsr()\n",
    "\n",
    "    e_gh = (YPI @ WY).toarray()\n",
    "    e_gh_sum = e_gh.sum()\n",
    "    Z[i] = e_gh_sum\n",
    "    e_gh /= e_gh_sum\n",
    "    trace_e = e_gh.trace()\n",
    "    \n",
    "    a2 = (e.sum(axis=1)**2).sum()\n",
    "    assortT[i] = trace_e - a2\n",
    "\n",
    "    "
   ]
  },
  {
   "cell_type": "code",
   "execution_count": 140,
   "id": "872344bd-ae50-4f03-9aa3-91cd40e60bfb",
   "metadata": {},
   "outputs": [
    {
     "data": {
      "text/plain": [
       "array([-2.84570145e-01, -3.03118308e-01, -3.15596250e-01, -2.66602092e-01,\n",
       "       -3.15770910e-01, -2.88781419e-01, -2.92056304e-01, -3.02310427e-01,\n",
       "       -2.76242040e-01, -3.15496620e-01, -3.15720627e-01, -2.76597770e-01,\n",
       "       -2.88405048e-01, -2.88827497e-01, -2.91023272e-01, -3.02833718e-01,\n",
       "       -3.01384642e-01, -2.62638226e-01, -3.03780897e-01, -2.90221409e-01,\n",
       "        9.87340525e-03,  9.85917697e-03,  5.12616931e-03, -2.47270373e-03,\n",
       "        3.35988994e-03, -1.39153914e-03, -1.79193456e-03,  9.82378016e-03,\n",
       "        9.82616093e-03,  9.67681316e-03,  4.03799054e-03,  9.71566739e-03,\n",
       "        9.68426998e-03,  9.66646562e-03, -2.60308889e-03,  9.90098786e-03,\n",
       "        3.33957971e-03,  9.83348553e-03,  9.85759275e-03,  3.80888750e-03,\n",
       "        9.83188078e-03, -2.71640293e-03,  2.97769403e-03,  3.92357042e-03,\n",
       "       -3.28309736e-03,  9.77925565e-03,  4.54255840e-03,  3.62422272e-03,\n",
       "        3.82030962e-03, -2.97356577e-03,  3.36311152e-03, -1.43572636e-03,\n",
       "       -1.81737941e-03,  9.90637929e-03,  9.61689589e-03,  3.42907620e-03,\n",
       "        9.72164581e-03,  3.66953079e-03,  9.76472078e-03,  9.86424824e-03,\n",
       "        9.94577402e-03,  3.72665485e-03,  9.76915168e-03,  4.79339673e-03,\n",
       "        2.70522773e-03,  9.88367407e-03, -1.07648883e-03,  9.83301281e-03,\n",
       "       -6.36418699e-03,  3.96400589e-03,  3.22336246e-03,  4.71264317e-03,\n",
       "        9.78045758e-03,  9.91640607e-03,  9.74224196e-03,  9.77153936e-03,\n",
       "        3.29682811e-03,  9.67058525e-03, -2.38559806e-03,  3.37749168e-03,\n",
       "        3.47249282e-03,  3.72635099e-03,  3.45360914e-03,  9.80904981e-03,\n",
       "        9.99179152e-03,  9.99761090e-03,  1.00061153e-02,  2.81734235e-03,\n",
       "       -7.03902398e-04,  9.90702188e-03, -9.11440252e-03,  4.56709582e-03,\n",
       "        4.10031500e-03,  3.45927332e-03,  9.93511595e-03,  3.17543529e-03,\n",
       "        4.55088257e-03,  9.81937574e-03,  9.67860358e-03, -2.57880832e-03,\n",
       "       -1.19980320e-03,  9.75796350e-03, -2.59743890e-03, -3.93194052e-03,\n",
       "        4.50481445e-03,  9.72702296e-03,  4.45742627e-03,  9.70817552e-03,\n",
       "        9.71979408e-03,  1.00346909e-02,  4.86616825e-03, -1.48227047e-03,\n",
       "        3.98870931e-03,  3.69204621e-03,  9.89511430e-03,  9.88593325e-03,\n",
       "        4.23170307e-03, -1.44270297e-03,  3.94935703e-03,  9.80734955e-03,\n",
       "       -3.56637209e-04,  4.72659718e-03, -1.04203508e-02, -8.80508039e-03,\n",
       "        9.85601813e-03,  4.06560180e-03,  4.16291506e-03,  3.14745677e-03,\n",
       "        1.00439043e-02, -3.39537317e-03,  1.00298116e-02,  2.74350073e-03,\n",
       "       -7.40268039e-03,  9.83278783e-03,  9.96574363e-03, -1.61645564e-03,\n",
       "        9.89174607e-03, -8.52366428e-04, -2.50512407e-03,  4.03150627e-03,\n",
       "       -2.92025399e-03,  9.91477797e-03,  9.75387429e-03,  9.75933716e-03,\n",
       "       -2.91492025e-04, -5.58642041e-03,  9.91352988e-03,  9.73918022e-03,\n",
       "        9.68267694e-03,  3.97637722e-03,  4.02459380e-03,  9.80059179e-03,\n",
       "        2.42184858e-03,  4.27625378e-03,  9.77216267e-03,  9.70842675e-03,\n",
       "        9.85605260e-03, -3.56537418e-03, -9.54207263e-03, -1.30632013e-03,\n",
       "        1.00444801e-02, -2.81860180e-03,  3.05773500e-03,  9.82968643e-03,\n",
       "        4.35279082e-03,  9.79366920e-03,  9.82906460e-03,  4.23745834e-03,\n",
       "       -7.39597993e-03, -3.10530486e-03, -2.53365886e-03,  9.89211101e-03,\n",
       "        3.80613241e-03,  3.37924915e-03,  1.00701151e-02,  4.30172912e-03,\n",
       "        4.35473090e-03,  2.92111466e-03,  3.56146904e-03,  3.97333282e-03,\n",
       "        3.68776459e-03,  9.77838347e-03, -8.65817749e-03,  9.85886621e-03,\n",
       "        1.00333598e-02,  9.95379014e-03,  9.72159456e-03,  4.42504696e-03,\n",
       "        9.56248788e-03, -5.02741556e-04,  3.20151661e-03,  3.70412982e-03,\n",
       "        3.53511233e-03,  3.51391217e-03,  2.72329697e-03,  9.70339524e-03,\n",
       "        3.27942751e-03,  1.00158547e-02,  9.89984828e-03, -8.29254103e-03,\n",
       "        9.86157356e-03,  3.82541710e-03, -3.36824425e-03,  3.67679352e-03,\n",
       "        9.93285437e-03,  3.30288156e-03,  9.83857771e-03, -1.84695580e-03,\n",
       "        9.91421868e-03,  3.92581088e-03,  4.47565419e-03,  3.86274235e-03,\n",
       "        9.71943187e-03,  9.91805101e-03,  4.15738374e-03,  9.91898230e-03,\n",
       "        3.53189336e-03,  9.98184929e-03,  9.88478889e-03,  3.41249803e-03,\n",
       "        3.41161647e-03,  9.95535815e-03,  9.75639931e-03, -4.59248345e-03,\n",
       "        4.66698569e-03,  9.78102630e-03, -1.72674827e-02,  4.52963150e-03,\n",
       "        3.58203619e-03, -1.83497242e-03,  9.79922466e-03, -4.05854748e-03,\n",
       "        2.61051365e-03,  9.90025858e-03, -3.84709803e-03,  3.10078816e-03,\n",
       "        9.67245963e-03,  9.71269872e-03,  3.06587360e-03,  4.30040509e-03,\n",
       "        9.84550430e-03,  9.84561432e-03,  9.88636152e-03, -1.97119214e-03,\n",
       "        9.83723457e-03,  9.89069221e-03,  9.87952089e-03,  3.68925372e-03,\n",
       "        3.06528550e-03,  3.85823835e-03,  3.76686894e-03,  2.50561820e-03,\n",
       "        9.86994537e-03,  3.96205516e-03,  9.84274355e-03, -1.66978184e-02,\n",
       "        9.61508162e-03,  3.93413178e-03,  3.12056379e-03, -1.76026765e-02,\n",
       "       -1.29357118e-02, -9.66192615e-03,  9.78652364e-03,  3.12358317e-03,\n",
       "        2.61134080e-03,  9.82757395e-03,  9.84679913e-03,  9.83586443e-03,\n",
       "        9.92080407e-03, -4.27601251e-03, -1.38887259e-03,  4.61424942e-03,\n",
       "        3.28778332e-03,  9.57982818e-03,  4.48094323e-03,  9.76078015e-03,\n",
       "        4.27123524e-03, -2.82009307e-03, -1.10004430e-02,  9.85926781e-03,\n",
       "        9.93983054e-03, -1.00571204e-03, -9.45012483e-03, -7.55657593e-03,\n",
       "        2.47131141e-03, -2.52418759e-03,  4.26640212e-03,  2.69139690e-03,\n",
       "       -9.51259528e-03, -2.45077207e-03, -7.74221207e-03, -2.45116284e-03,\n",
       "        4.15603839e-03,  3.43769667e-03,  9.71668224e-03,  9.84487442e-03,\n",
       "        9.81065597e-03,  3.24891642e-03,  9.71088854e-03,  9.85454565e-03,\n",
       "        9.80456095e-03,  9.62795133e-03, -6.32852669e-03,  9.80557789e-03,\n",
       "        9.81841974e-03,  9.79960158e-03, -6.06137347e-04,  8.62424002e-05,\n",
       "        3.51164732e-03,  4.32053927e-03,  9.80910591e-03,  4.54454829e-03,\n",
       "        4.11546661e-03,  3.26271189e-03,  1.00172460e-02, -2.13429064e-03,\n",
       "        3.29397497e-03,  9.77910095e-03,  2.80612035e-03, -3.01373900e-03,\n",
       "        9.74010050e-03,  9.88794526e-03,  4.17116407e-03,  4.47222922e-03,\n",
       "       -8.37696785e-04, -8.74973238e-03,  9.93606424e-03,  4.52203197e-03,\n",
       "        3.58027686e-03,  9.83097604e-03, -1.17552928e-02,  4.45248731e-03,\n",
       "        1.14182936e-03,  9.86666583e-03,  9.69330313e-03, -8.62528781e-03,\n",
       "       -7.47395937e-03, -2.69752964e-03,  9.66238991e-03,  3.26987238e-03,\n",
       "        3.69727399e-03,  9.81643843e-03,  3.03444294e-03,  9.61534446e-03,\n",
       "        9.77034554e-03, -1.04451741e-02,  9.76545289e-03, -3.36467333e-03,\n",
       "       -1.19574188e-02,  3.69912415e-03,  9.60165055e-03, -1.54718956e-03,\n",
       "        9.82034651e-03,  9.68902578e-03, -2.54682743e-03,  9.71765094e-03,\n",
       "        3.62807254e-03, -2.02731824e-03,  9.70785996e-03,  9.86133253e-03,\n",
       "        9.99091224e-03,  9.83201757e-03,  9.88584667e-03,  9.57661317e-03,\n",
       "        1.00172964e-02,  3.68101742e-03,  3.97344908e-03,  2.78586867e-03,\n",
       "        4.31418196e-03,  9.89721992e-03,  9.69559639e-03, -3.19345599e-03,\n",
       "        3.79033714e-03,  9.82102861e-03,  9.93060900e-03,  4.45042471e-03,\n",
       "        4.03324098e-03,  9.94218672e-03,  9.96247507e-03, -9.83444388e-03,\n",
       "       -2.01790697e-03, -2.25846717e-03,  2.86408360e-03,  9.82814850e-03,\n",
       "        3.51160745e-03,  3.61950206e-03,  9.82399976e-03,  9.87791181e-03,\n",
       "        2.97838744e-03, -6.22456023e-03,  4.53105373e-03,  9.76526950e-03,\n",
       "        3.94327761e-03,  3.04138721e-03,  3.63731177e-03, -1.76313242e-03,\n",
       "        4.10590397e-03,  4.44074161e-03,  3.99164364e-03,  9.76687832e-03,\n",
       "       -2.82276918e-03, -7.06019284e-03, -1.72399981e-03,  9.59506874e-03,\n",
       "       -3.04141100e-03,  2.86926211e-03,  3.34465126e-03,  9.79757527e-03,\n",
       "        4.08839968e-03,  9.80472909e-03, -2.39758684e-03,  2.90601456e-03,\n",
       "        3.70741552e-04,  3.59262978e-03,  2.75962623e-03,  9.76951547e-03,\n",
       "        3.73955821e-03, -1.85829172e-02,  9.88081493e-03,  9.72536245e-03,\n",
       "        9.82571612e-03,  3.69839807e-03,  9.80822595e-03,  9.78008123e-03,\n",
       "       -2.02516233e-03, -9.49592854e-04,  9.94273925e-03,  3.55454986e-03,\n",
       "       -1.74770619e-03,  3.69553897e-03,  9.86159840e-03,  9.74164324e-03,\n",
       "       -2.67568785e-03, -3.56939729e-03, -9.69157194e-03, -1.75139852e-03,\n",
       "       -1.24084526e-02, -8.32160035e-03, -5.75175148e-03,  9.75595459e-03,\n",
       "        2.56233923e-03,  3.43686184e-03,  9.78928578e-03,  2.42738390e-03,\n",
       "        4.14886045e-03,  3.39568285e-03,  9.73806597e-03,  2.86211275e-03,\n",
       "        2.93233056e-03, -3.67395894e-03,  4.32154096e-03,  3.84534036e-03,\n",
       "        9.78081861e-03,  4.55780605e-03,  9.82878162e-03,  2.92241969e-03,\n",
       "        9.71658050e-03,  4.67786127e-03, -9.02960982e-03, -8.90261373e-03,\n",
       "       -1.65357082e-02, -2.38284246e-03,  9.87302570e-03,  3.66939084e-03,\n",
       "        9.87795211e-03, -1.29647600e-03,  9.89931102e-03,  4.21058562e-03,\n",
       "        3.65222961e-03, -3.43277294e-03,  4.78083953e-03,  2.75764254e-03,\n",
       "       -6.42385036e-03,  4.85871665e-03,  9.75938925e-03, -2.62365588e-03,\n",
       "        9.75310113e-03,  3.14870047e-03,  9.85676027e-03,  3.93330659e-03,\n",
       "        4.01680095e-03, -3.66225288e-03,  9.91270610e-03, -1.72163483e-03,\n",
       "        3.00357410e-03,  9.97830039e-03,  9.93414682e-03,  1.69694602e-03,\n",
       "       -9.62197899e-04,  9.64422791e-03,  4.04324893e-03,  9.88493646e-03,\n",
       "        4.39173256e-03,  2.92178926e-03,  9.78208829e-03,  9.76031657e-03,\n",
       "        9.79434918e-03,  4.35743593e-03,  9.81632714e-03, -1.98228375e-03,\n",
       "        3.93226075e-03,  9.96963662e-03,  4.28734712e-03,  4.68950859e-03,\n",
       "       -1.15904967e-03,  1.00498102e-02,  4.09053686e-03,  9.84323371e-03,\n",
       "        3.22570774e-03, -1.27255444e-02,  3.47308841e-03,  9.77273719e-03,\n",
       "        9.71343275e-03,  9.72110845e-03,  9.76493618e-03,  9.90615238e-03,\n",
       "        9.97870750e-03,  3.81085175e-03,  4.43739503e-03,  9.91037203e-03,\n",
       "        4.51111917e-03,  9.89109675e-03, -2.02178339e-03,  3.50144952e-03,\n",
       "        9.91328409e-03,  2.28773767e-03,  3.29571364e-03,  9.83771255e-03,\n",
       "       -1.13252284e-03,  9.95319402e-03,  9.81934459e-03,  9.85450139e-03,\n",
       "        9.78616487e-03,  9.75398491e-03, -2.95631653e-03,  2.66381159e-03,\n",
       "       -3.47767371e-03, -5.88405169e-03, -9.36757573e-03,  9.91482893e-03,\n",
       "        9.75316861e-03,  3.75052579e-03,  3.73379797e-03,  9.96975660e-03,\n",
       "        3.24730376e-03,  3.48476093e-03,  3.60689634e-03,  4.01531349e-03,\n",
       "        9.96257682e-03,  2.74002129e-03, -1.28561330e-02,  3.57753794e-03,\n",
       "        9.83915548e-03,  9.89531892e-03, -8.34929321e-03,  2.85943145e-03,\n",
       "        2.26920670e-03,  4.50633969e-03,  3.47381901e-03,  3.71154461e-03,\n",
       "        3.21419231e-03,  9.83606906e-03,  2.54346968e-03,  9.75953333e-03,\n",
       "        9.95590796e-03, -8.11447940e-03,  9.84891308e-03,  9.84112569e-03,\n",
       "        4.30649527e-03,  3.24854979e-03,  9.80100783e-03,  9.87289976e-03,\n",
       "        9.82503709e-03, -1.68900555e-02,  9.82577869e-03,  2.57686274e-03,\n",
       "       -3.09817867e-03,  4.39966175e-03,  9.88436577e-03,  9.68589288e-03,\n",
       "        9.97208875e-03,  9.81802122e-03, -4.28880864e-03, -4.46688254e-03,\n",
       "        9.90201985e-03,  4.68174716e-03,  2.75440886e-03,  9.79414866e-03,\n",
       "        9.77921063e-03,  3.56405106e-03,  3.06045131e-03,  3.20465196e-03,\n",
       "       -2.33597396e-03, -1.70399365e-03,  4.34389778e-03, -2.70429193e-03,\n",
       "       -1.27261326e-02,  9.95367009e-03,  9.86554287e-03,  9.69382767e-03,\n",
       "        4.24017720e-03,  9.77509747e-03, -3.48869106e-03,  4.79395518e-03,\n",
       "        4.08706170e-03,  9.65123302e-03,  9.68483058e-03,  9.97535733e-03,\n",
       "       -2.37798172e-04, -3.27840729e-03,  9.96358461e-03, -7.29307076e-03,\n",
       "        3.47199236e-03,  3.67657571e-03,  9.75634853e-03,  9.78315802e-03,\n",
       "        9.68551324e-03, -8.91824882e-03,  3.95382952e-03,  9.81965727e-03,\n",
       "        3.46074030e-03,  9.82682912e-03,  4.05320733e-03,  9.74014030e-03,\n",
       "        9.84716935e-03,  9.81890242e-03, -1.68717299e-03,  3.91680379e-03,\n",
       "        4.66939196e-03,  9.78973401e-03,  9.96004912e-03, -3.16181859e-03,\n",
       "       -3.83878279e-03,  5.05945566e-03,  4.58709865e-03,  4.84779528e-03,\n",
       "        3.83033436e-03,  9.87520003e-03,  3.97596017e-03, -2.56782161e-03,\n",
       "       -3.63248238e-03,  9.73287688e-03,  4.14742412e-03, -1.05827057e-03,\n",
       "        4.25890506e-03, -8.89096735e-03, -1.17020969e-02,  3.22961901e-03,\n",
       "        9.80435152e-03,  9.72707065e-03,  9.63712638e-03, -1.07006595e-03,\n",
       "        9.72503477e-03,  3.97504367e-03,  3.94727828e-03, -3.99083354e-03,\n",
       "        3.43670190e-03,  9.88558215e-03,  4.07155499e-03,  1.93347286e-03,\n",
       "       -1.83359279e-03,  9.85436157e-03,  9.88911654e-03,  9.66252995e-03,\n",
       "       -1.26556754e-02,  4.00719151e-03,  4.14714548e-03,  9.74977329e-03,\n",
       "        9.62964574e-03,  9.71576758e-03,  9.82211765e-03,  3.12889940e-03,\n",
       "        9.88652738e-03,  3.62798192e-03,  4.32537019e-03,  9.83369207e-03,\n",
       "        3.95580912e-03,  2.84680569e-03,  3.52933978e-03,  3.42664033e-03,\n",
       "        4.58481721e-03,  3.45574654e-03,  9.74871618e-03,  3.00582106e-03,\n",
       "        2.18388264e-03,  3.89986852e-03,  9.95488393e-03, -1.41496398e-03,\n",
       "        4.09150462e-03,  4.15748027e-03, -2.59306336e-03,  3.96191498e-03,\n",
       "        3.87850191e-03,  9.87375051e-03,  3.35890022e-03,  2.52938844e-03,\n",
       "        4.28986656e-03,  9.82106084e-03,  9.89515950e-03,  9.84127060e-03,\n",
       "        3.65289113e-03,  9.76785246e-03, -4.59243361e-03,  9.93819602e-03,\n",
       "        2.87442047e-03, -1.35990736e-03,  3.86835523e-03,  9.87655907e-03,\n",
       "        9.94041558e-03,  4.02509328e-03,  4.13352544e-03,  3.10288106e-03,\n",
       "        4.07938549e-03,  3.95412465e-03,  3.23492453e-03,  3.68100063e-03,\n",
       "        3.51899363e-03,  9.85714694e-03,  9.78580459e-03,  9.88551423e-03,\n",
       "        4.10547207e-03,  3.46640572e-03, -7.19050129e-04,  9.78135866e-03,\n",
       "        9.86276443e-03,  9.66880174e-03, -6.24647676e-03,  9.78188877e-03,\n",
       "        9.79634991e-03, -3.14398669e-03,  9.68893334e-03,  3.49487717e-03,\n",
       "       -9.78126406e-03,  9.86859787e-03,  4.48434375e-03,  2.93306744e-03,\n",
       "        3.67670215e-03, -3.79855549e-03,  9.93155201e-03,  9.96473100e-03,\n",
       "        9.93726900e-03,  9.75437317e-03,  4.27522367e-03, -4.13585758e-03,\n",
       "        2.93873564e-03,  9.86777163e-03,  9.89316609e-03,  3.10929987e-03,\n",
       "        3.49883844e-03,  3.28353343e-03, -5.38531668e-03,  1.82421416e-03,\n",
       "        9.60048854e-03, -2.97770575e-03, -6.89949266e-03,  9.59390697e-03,\n",
       "        3.49376396e-03,  3.74452452e-03,  9.80890494e-03,  3.16443293e-03,\n",
       "        9.89874167e-03,  1.00076581e-02,  4.03841959e-03,  9.84222371e-03,\n",
       "        9.97508876e-03,  4.45587200e-03,  9.78332871e-03,  9.82557366e-03,\n",
       "       -2.74215029e-03,  9.68139204e-03,  3.06016399e-03, -7.85368992e-03,\n",
       "        2.79870372e-03, -2.99664289e-03,  9.63458556e-03, -2.86473389e-03,\n",
       "       -8.87404862e-03,  9.75766297e-03,  4.14963211e-03,  2.53765297e-03,\n",
       "       -2.89623375e-03,  9.91448786e-03,  9.83758647e-03, -3.48327638e-03,\n",
       "        9.82938785e-03,  9.86448878e-03,  9.93997048e-03,  1.00655853e-02,\n",
       "       -2.05372780e-03,  9.79927705e-03,  3.64386852e-03,  9.69134674e-03,\n",
       "        9.61871153e-03, -1.48457053e-03, -1.82564912e-03, -2.23713312e-03,\n",
       "        1.87594525e-03, -6.79461543e-03,  9.96009154e-03,  9.56114468e-03])"
      ]
     },
     "execution_count": 140,
     "metadata": {},
     "output_type": "execute_result"
    }
   ],
   "source": [
    "assortT"
   ]
  },
  {
   "cell_type": "code",
   "execution_count": 68,
   "id": "a34305ee-6e2d-4bbe-89a5-aeca92d27514",
   "metadata": {},
   "outputs": [
    {
     "data": {
      "text/plain": [
       "0.0"
      ]
     },
     "execution_count": 68,
     "metadata": {},
     "output_type": "execute_result"
    }
   ],
   "source": [
    "assortM.min()"
   ]
  },
  {
   "cell_type": "code",
   "execution_count": 70,
   "id": "e40bb47a-2cd2-4a56-8e12-ab3ffb910405",
   "metadata": {},
   "outputs": [
    {
     "data": {
      "text/plain": [
       "0.48685940553871526"
      ]
     },
     "execution_count": 70,
     "metadata": {},
     "output_type": "execute_result"
    }
   ],
   "source": [
    "assortT.min()"
   ]
  },
  {
   "cell_type": "code",
   "execution_count": 71,
   "id": "59529891-5481-4118-9d98-ed9b2115fc77",
   "metadata": {},
   "outputs": [
    {
     "data": {
      "text/plain": [
       "0.9758403120359327"
      ]
     },
     "execution_count": 71,
     "metadata": {},
     "output_type": "execute_result"
    }
   ],
   "source": [
    "ab_glob"
   ]
  },
  {
   "cell_type": "code",
   "execution_count": 72,
   "id": "4508ed31-be03-4297-8688-0fcb6c44453e",
   "metadata": {},
   "outputs": [
    {
     "data": {
      "text/plain": [
       "-0.4889809064972174"
      ]
     },
     "execution_count": 72,
     "metadata": {},
     "output_type": "execute_result"
    }
   ],
   "source": [
    "assortT -= ab_glob\n",
    "assortT.min()"
   ]
  },
  {
   "cell_type": "code",
   "execution_count": 73,
   "id": "2016aa37-7dfd-4d6b-b867-616bdb61f551",
   "metadata": {},
   "outputs": [
    {
     "data": {
      "text/plain": [
       "-20.239537332786682"
      ]
     },
     "execution_count": 73,
     "metadata": {},
     "output_type": "execute_result"
    }
   ],
   "source": [
    "np.divide(assortT, 1.-ab_glob, out=assortT, where=ab_glob != 0)\n",
    "assortT.min()"
   ]
  },
  {
   "cell_type": "code",
   "execution_count": 78,
   "id": "d52cf819-b43a-45d0-a3b9-38c47be61865",
   "metadata": {},
   "outputs": [
    {
     "data": {
      "text/plain": [
       "-0.4889809064972174"
      ]
     },
     "execution_count": 78,
     "metadata": {},
     "output_type": "execute_result"
    }
   ],
   "source": [
    "(assortT*(1-ab_glob)).min()"
   ]
  },
  {
   "cell_type": "code",
   "execution_count": 79,
   "id": "67061b44-a9ef-4083-922a-fc82c23a07ca",
   "metadata": {},
   "outputs": [
    {
     "data": {
      "text/plain": [
       "0.015322391735874241"
      ]
     },
     "execution_count": 79,
     "metadata": {},
     "output_type": "execute_result"
    }
   ],
   "source": [
    "(assortT*(1-ab_glob)).max()"
   ]
  },
  {
   "cell_type": "code",
   "execution_count": 80,
   "id": "d617de2d-a032-4843-afee-5acefbef72b9",
   "metadata": {},
   "outputs": [
    {
     "data": {
      "text/plain": [
       "(array([0., 0., 0., 0., 0., 0., 0., 0., 0., 0., 0., 0., 0., 0., 0., 0., 0.,\n",
       "        0., 0., 0., 0., 0., 0., 0., 0., 1., 0., 0., 0., 0., 0., 0., 0., 0.,\n",
       "        0., 0., 0., 0., 0., 0., 0., 0., 0., 0., 0., 0., 0., 0., 0., 0.]),\n",
       " array([-0.48467761, -0.46467761, -0.44467761, -0.42467761, -0.40467761,\n",
       "        -0.38467761, -0.36467761, -0.34467761, -0.32467761, -0.30467761,\n",
       "        -0.28467761, -0.26467761, -0.24467761, -0.22467761, -0.20467761,\n",
       "        -0.18467761, -0.16467761, -0.14467761, -0.12467761, -0.10467761,\n",
       "        -0.08467761, -0.06467761, -0.04467761, -0.02467761, -0.00467761,\n",
       "         0.01532239,  0.03532239,  0.05532239,  0.07532239,  0.09532239,\n",
       "         0.11532239,  0.13532239,  0.15532239,  0.17532239,  0.19532239,\n",
       "         0.21532239,  0.23532239,  0.25532239,  0.27532239,  0.29532239,\n",
       "         0.31532239,  0.33532239,  0.35532239,  0.37532239,  0.39532239,\n",
       "         0.41532239,  0.43532239,  0.45532239,  0.47532239,  0.49532239,\n",
       "         0.51532239]),\n",
       " <BarContainer object of 50 artists>)"
      ]
     },
     "execution_count": 80,
     "metadata": {},
     "output_type": "execute_result"
    },
    {
     "data": {
      "image/png": "[encoded data removed]",
      "text/plain": [
       "<Figure size 432x288 with 1 Axes>"
      ]
     },
     "metadata": {
      "needs_background": "light"
     },
     "output_type": "display_data"
    }
   ],
   "source": [
    "plt.hist((assortT*(1-ab_glob)).max(), bins=50)"
   ]
  },
  {
   "cell_type": "markdown",
   "id": "dec7b180-a7ca-4f08-ba43-53d72a396c4f",
   "metadata": {},
   "source": [
    "Okay we found it!  It's this line where things get crazy  negative.  Why are we doing this?\n",
    "\n",
    "This is the 1/Qmax in the paper.  As the largest group gets close to the whole thing, this number gets very tiny.\n",
    "\n",
    "Okay, this makes sense but isn't directly useful.  If we don't divide everything by Qmax, the score distribution is shifted by a constant but it doesn't change the relative values of nodes.\n",
    "\n",
    "WAIT or does it?!?!?!?!?\n",
    "\n",
    "Within a fixed network with a fixed partition, Qmax is a constant.  The relative values from within different groups will not be effected.  However, with this modified planted partition model, Qmax does change with every shift in partition.\n",
    "\n",
    "The question of why are smaller dorms less assortative wouldn't be helped here I think.  But at least I understand the bias of that experiment.\n",
    "\n",
    "What happens if we use the SBM as a null model instead of the configuration model.  How many internal vs. external edges are we seeing in the neighborhood of this node relative to what we would expect to see if the whole network were evenly mixed?\n",
    "\n",
    "Then we end up with scores that quantify deviation from the norm but don't give a flavor of whether the neighborhodd is assortative or dissassortative overall.\n",
    "\n",
    "What do I want here?\n",
    "\n",
    "A score that can be interpreted between networks?"
   ]
  },
  {
   "cell_type": "code",
   "execution_count": null,
   "id": "79350b6f-a924-46be-b5dc-ab974cfd03ab",
   "metadata": {},
   "outputs": [],
   "source": []
  },
  {
   "cell_type": "code",
   "execution_count": null,
   "id": "0c691375-9c5f-44bb-90d1-047e4a39fd16",
   "metadata": {},
   "outputs": [],
   "source": []
  },
  {
   "cell_type": "code",
   "execution_count": 44,
   "id": "02718d32-f2c6-48b4-806d-219d940d34f1",
   "metadata": {},
   "outputs": [
    {
     "data": {
      "text/plain": [
       "array([ 1, -1])"
      ]
     },
     "execution_count": 44,
     "metadata": {},
     "output_type": "execute_result"
    }
   ],
   "source": [
    "a = np.array([[1,2], [2,1]])\n",
    "b = np.array([-1, 1])\n",
    "\n",
    "a @ b"
   ]
  },
  {
   "cell_type": "code",
   "execution_count": 47,
   "id": "46e847e6-d184-4452-845b-a140bb13683b",
   "metadata": {},
   "outputs": [
    {
     "data": {
      "text/plain": [
       "array([ 1, -1])"
      ]
     },
     "execution_count": 47,
     "metadata": {},
     "output_type": "execute_result"
    }
   ],
   "source": [
    "b.dot(a)"
   ]
  }
 ],
 "metadata": {
  "kernelspec": {
   "display_name": "Python 3",
   "language": "python",
   "name": "python3"
  },
  "language_info": {
   "codemirror_mode": {
    "name": "ipython",
    "version": 3
   },
   "file_extension": ".py",
   "mimetype": "text/x-python",
   "name": "python",
   "nbconvert_exporter": "python",
   "pygments_lexer": "ipython3",
   "version": "3.9.5"
  }
 },
 "nbformat": 4,
 "nbformat_minor": 5
}
