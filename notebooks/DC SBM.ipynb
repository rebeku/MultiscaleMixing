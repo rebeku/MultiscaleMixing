{
 "cells": [
  {
   "cell_type": "markdown",
   "id": "6a4abc34-0aa5-4ca8-833d-2787ea1b0a06",
   "metadata": {},
   "source": [
    "Let's try generating a DC-SBM properly and then do the PPR stuff again.  This way we don't have to worry about errors translating from the SBM.\n",
    "\n",
    "10 communities w/ 100 nodes each, 1 one with 1,000"
   ]
  },
  {
   "cell_type": "code",
   "execution_count": 464,
   "id": "a16f25ae-b2ca-41eb-a0e9-579f740091c7",
   "metadata": {},
   "outputs": [],
   "source": [
    "import numpy as np\n",
    "from scipy.integrate import trapz"
   ]
  },
  {
   "cell_type": "code",
   "execution_count": 494,
   "id": "9be61ad2-54bd-4598-b278-d8e70830b47c",
   "metadata": {},
   "outputs": [],
   "source": [
    "# block membership matrix\n",
    "Z = np.zeros((2000, 11), dtype=int)\n",
    "\n",
    "sizes = np.append(np.array([100]*10), 1000)\n",
    "C = len(sizes)\n",
    "N = sizes.sum()\n",
    "\n",
    "thresholds = np.zeros(len(sizes) + 1, dtype=int)\n",
    "thresholds[1:] = sizes\n",
    "\n",
    "for i in range(2, len(thresholds)):\n",
    "    thresholds[i:] += sizes[i-2]\n",
    "\n",
    "for i in range(C):\n",
    "    Z[thresholds[i]:thresholds[i+1]][:,i] = 1\n",
    "\n",
    "    \n",
    "# mixing matrix\n",
    "# average of 8 edges between the smaller off-diagonal classes\n",
    "B = np.ones((C,C)) * 8\n",
    "B[:,-1] *= 10\n",
    "B[-1, :] *= 10\n",
    "\n",
    "for i in range(C -1):\n",
    "    B[i,i] = 3200\n",
    "    \n",
    "B[-1,-1] = 320000\n",
    "\n",
    "# theta should sum to 1 for each block\n",
    "theta = np.ones(N)\n",
    "theta[:1000] *= 1e-2\n",
    "theta[1000:] *= 1e-3\n",
    "\n",
    "assert theta.sum() == C\n",
    "\n",
    "# generate random graph\n",
    "A = np.zeros((N,N), dtype=int)\n",
    "rng = np.random.default_rng(7777778)\n",
    "choices = rng.uniform(size=N*(N-1)//2)\n",
    "\n",
    "# probabilities for each pair of nodes\n",
    "theta = np.diag(theta)\n",
    "p = (theta @ Z @ B @ Z.T @ theta)\n",
    "\n",
    "# this sucks but yeet\n",
    "A = np.zeros((N,N), dtype=int)\n",
    "\n",
    "k = 0\n",
    "for i in range(N):\n",
    "    for j in range(i+1, N):\n",
    "        if choices[k] < p[i,j]:\n",
    "            A[i,j] = 1\n",
    "            A[j,i] = 1\n",
    "        k+=1"
   ]
  },
  {
   "cell_type": "code",
   "execution_count": 495,
   "id": "47d57c7e-8913-4083-8fc2-6761fffc0266",
   "metadata": {},
   "outputs": [
    {
     "name": "stdout",
     "output_type": "stream",
     "text": [
      "88.0\n",
      "-110.0\n",
      "-92.0\n",
      "-37.0\n",
      "29.0\n",
      "-12.0\n",
      "-21.0\n",
      "-49.0\n",
      "48.0\n",
      "47.0\n",
      "-757.0\n"
     ]
    }
   ],
   "source": [
    "for i in range(C):\n",
    "    print(A[thresholds[i]:thresholds[i+1]].sum() - B.sum(axis=0)[i])"
   ]
  },
  {
   "cell_type": "code",
   "execution_count": 496,
   "id": "a04c561e-74bb-4f82-99d2-f2d39cf638d3",
   "metadata": {},
   "outputs": [
    {
     "name": "stdout",
     "output_type": "stream",
     "text": [
      "86.0\n",
      "-104.0\n",
      "-102.0\n",
      "-38.0\n",
      "40.0\n",
      "2.0\n",
      "-24.0\n",
      "-68.0\n",
      "56.0\n",
      "54.0\n",
      "-746.0\n"
     ]
    }
   ],
   "source": [
    "for i in range(C):\n",
    "    print(\n",
    "        A[thresholds[i]:thresholds[i+1], thresholds[i]:thresholds[i+1]].sum() - B[i,i])"
   ]
  },
  {
   "cell_type": "code",
   "execution_count": 497,
   "id": "0f9bb4c2-15c2-4f79-a257-d16bc6d938e5",
   "metadata": {},
   "outputs": [
    {
     "data": {
      "text/plain": [
       "array([  3352.,   3352.,   3352.,   3352.,   3352.,   3352.,   3352.,\n",
       "         3352.,   3352.,   3352., 320800.])"
      ]
     },
     "execution_count": 497,
     "metadata": {},
     "output_type": "execute_result"
    }
   ],
   "source": [
    "B.sum(axis=0)"
   ]
  },
  {
   "cell_type": "code",
   "execution_count": null,
   "id": "c03ee23b-fb30-4cc7-9486-d21fe77ab9ea",
   "metadata": {},
   "outputs": [],
   "source": []
  },
  {
   "cell_type": "markdown",
   "id": "a5584cb4-969a-4de2-a898-47994d0c428e",
   "metadata": {},
   "source": [
    "Ok I am satisfied.  This DC-SBM looks legit.\n",
    "\n",
    "Compute blockwise PPR"
   ]
  },
  {
   "cell_type": "code",
   "execution_count": 498,
   "id": "71425313-189b-485f-aa90-1fc03550d89a",
   "metadata": {},
   "outputs": [
    {
     "data": {
      "text/plain": [
       "array([0.90456059, 0.00477533, 0.00477533, 0.00477533, 0.00477533,\n",
       "       0.00477533, 0.00477533, 0.00477533, 0.00477533, 0.00477533,\n",
       "       0.05246141])"
      ]
     },
     "execution_count": 498,
     "metadata": {},
     "output_type": "execute_result"
    }
   ],
   "source": [
    "# fix source node of PPR for now\n",
    "u = 7\n",
    "alpha = 0.3\n",
    "\n",
    "pi = np.zeros(N)\n",
    "pi[u] = 1\n",
    "\n",
    "D = np.diag(B.sum(axis=0))\n",
    "P = np.linalg.inv(D) @ B\n",
    "\n",
    "alpha_pi_t = pi @ Z * alpha\n",
    "\n",
    "\n",
    "inv_transform = np.linalg.inv(np.eye(C) - (1-alpha)*P)\n",
    "p = alpha_pi_t @ inv_transform\n",
    "\n",
    "# blockwise PPR vector\n",
    "p"
   ]
  },
  {
   "cell_type": "code",
   "execution_count": null,
   "id": "c7c98241-5aca-4159-8820-07ff4c1ff91a",
   "metadata": {},
   "outputs": [],
   "source": []
  },
  {
   "cell_type": "code",
   "execution_count": 499,
   "id": "434322eb-d30d-4f5f-b3b3-314c2b3c4cb9",
   "metadata": {},
   "outputs": [],
   "source": [
    "from lassort.localassort import calculateRWRrange\n",
    "\n",
    "# is this correct?\n",
    "degree = A.sum(axis=0)\n",
    "D = np.diag(1./degree, 0)\n",
    "# construct transition matrix (row normalised adjacency matrix)\n",
    "W = D @ A\n",
    "\n",
    "pr = np.array([alpha])\n",
    "\n",
    "pis, ti, it = calculateRWRrange(W, 100, pr, N)"
   ]
  },
  {
   "cell_type": "code",
   "execution_count": 500,
   "id": "d7a3ccc7-08e4-40d5-b6df-add906b37432",
   "metadata": {},
   "outputs": [
    {
     "data": {
      "text/plain": [
       "0.0007084564687767997"
      ]
     },
     "execution_count": 500,
     "metadata": {},
     "output_type": "execute_result"
    }
   ],
   "source": [
    "ti[:100].sum()"
   ]
  },
  {
   "cell_type": "code",
   "execution_count": 501,
   "id": "f8b4ab91-4126-4497-9769-12ee3e9400f7",
   "metadata": {},
   "outputs": [
    {
     "data": {
      "text/plain": [
       "0.913508264314111"
      ]
     },
     "execution_count": 501,
     "metadata": {},
     "output_type": "execute_result"
    }
   ],
   "source": [
    "ti[100:200].sum()"
   ]
  },
  {
   "cell_type": "code",
   "execution_count": 502,
   "id": "37e12859-b3fc-4b6b-906a-17a8a123df4e",
   "metadata": {},
   "outputs": [
    {
     "data": {
      "text/plain": [
       "0.0007069888864222242"
      ]
     },
     "execution_count": 502,
     "metadata": {},
     "output_type": "execute_result"
    }
   ],
   "source": [
    "ti[200:300].sum()"
   ]
  },
  {
   "cell_type": "code",
   "execution_count": 503,
   "id": "a97f3bb4-1ce2-43ab-b194-04a285ffa3da",
   "metadata": {},
   "outputs": [
    {
     "data": {
      "text/plain": [
       "0.0011422256022391288"
      ]
     },
     "execution_count": 503,
     "metadata": {},
     "output_type": "execute_result"
    }
   ],
   "source": [
    "ti[400:500].sum()"
   ]
  },
  {
   "cell_type": "markdown",
   "id": "de366d6f-0e95-4d3e-9ffd-225f0a312e93",
   "metadata": {},
   "source": [
    "Ooookay...  I think this is right actually."
   ]
  },
  {
   "cell_type": "code",
   "execution_count": 504,
   "id": "7a19d3ad-6f57-4acd-9a83-8dd32842078c",
   "metadata": {},
   "outputs": [
    {
     "data": {
      "text/plain": [
       "0.7597160126411407"
      ]
     },
     "execution_count": 504,
     "metadata": {},
     "output_type": "execute_result"
    }
   ],
   "source": [
    "# compute expected  multiscale mixing\n",
    "# egl - ar^2\n",
    "ar2 = (B.sum(axis=0) / B.sum())**2\n",
    "\n",
    "eggl = p * np.diag(B)/ B.sum(axis=0)\n",
    "\n",
    "\n",
    "qmax = 1 - ar2.sum()\n",
    "r_loc = (eggl.sum() - ar2.sum()) / qmax\n",
    "\n",
    "r_loc"
   ]
  },
  {
   "cell_type": "code",
   "execution_count": 436,
   "id": "c2a9f6f7-7048-4274-be6e-d9dc8bbef7f3",
   "metadata": {},
   "outputs": [],
   "source": [
    "from lassort import localAssortF\n",
    "import networkx as nx"
   ]
  },
  {
   "cell_type": "code",
   "execution_count": 505,
   "id": "683af5e3-597e-4584-9500-e23bc2f265f7",
   "metadata": {},
   "outputs": [],
   "source": [
    "G = nx.convert_matrix.from_numpy_matrix(A)\n",
    "E = nx.convert_matrix.to_pandas_edgelist(G).values[:,:2]\n"
   ]
  },
  {
   "cell_type": "code",
   "execution_count": 506,
   "id": "76764d64-57b0-4c94-89ba-2c5dd912b320",
   "metadata": {},
   "outputs": [
    {
     "data": {
      "text/plain": [
       "array([0.7992832 , 0.6635741 , 0.79227753, ..., 0.98362697, 0.9833658 ,\n",
       "       0.96762478])"
      ]
     },
     "execution_count": 506,
     "metadata": {},
     "output_type": "execute_result"
    }
   ],
   "source": [
    "attr = []\n",
    "\n",
    "for i in range(C - 1):\n",
    "    attr.append(np.ones(100, dtype=int) * i)\n",
    "    \n",
    "attr.append(np.ones(1000, dtype=int)*10)\n",
    "\n",
    "M = np.hstack(attr)\n",
    "assortM, assortT, _ = localAssortF(E,M,pr=np.array([0.3]))\n",
    "                                   \n",
    "assortT"
   ]
  },
  {
   "cell_type": "code",
   "execution_count": 507,
   "id": "08c55996-8948-47e9-b425-bf2f9075b748",
   "metadata": {},
   "outputs": [
    {
     "data": {
      "text/plain": [
       "0.7563480046505685"
      ]
     },
     "execution_count": 507,
     "metadata": {},
     "output_type": "execute_result"
    }
   ],
   "source": [
    "assortT[:1000].mean()"
   ]
  },
  {
   "cell_type": "markdown",
   "id": "126411eb-8a1e-41a9-b828-8176c26fb9ae",
   "metadata": {},
   "source": [
    "This is close...\n",
    "\n",
    "Let's try one in the big chonk"
   ]
  },
  {
   "cell_type": "code",
   "execution_count": 538,
   "id": "30dfbe53-5e5b-4552-9aef-4c25f20077d5",
   "metadata": {},
   "outputs": [
    {
     "data": {
      "text/plain": [
       "0.984786876776065"
      ]
     },
     "execution_count": 538,
     "metadata": {},
     "output_type": "execute_result"
    }
   ],
   "source": [
    "# fix source node of PPR for now\n",
    "u = 1554\n",
    "alpha = 0.3\n",
    "\n",
    "pi = np.zeros(N)\n",
    "pi[u] = 1\n",
    "\n",
    "D = np.diag(B.sum(axis=0))\n",
    "P = np.linalg.inv(D) @ B\n",
    "\n",
    "alpha_pi_t = pi @ Z * alpha\n",
    "\n",
    "\n",
    "inv_transform = np.linalg.inv(np.eye(C) - (1-alpha)*P)\n",
    "p = alpha_pi_t @ inv_transform\n",
    "\n",
    "# compute expected  multiscale mixing\n",
    "# egl - ar^2\n",
    "ar2 = (B.sum(axis=0) / B.sum())**2\n",
    "\n",
    "eggl = p * np.diag(B)/ B.sum(axis=0)\n",
    "\n",
    "\n",
    "qmax = 1 - ar2.sum()\n",
    "r_loc = (eggl.sum() - ar2.sum()) / qmax\n",
    "\n",
    "r_loc"
   ]
  },
  {
   "cell_type": "code",
   "execution_count": 539,
   "id": "d2eb8781-e0ec-4ffc-aa0f-c6f5101240f1",
   "metadata": {},
   "outputs": [
    {
     "data": {
      "text/plain": [
       "0.9853749271956477"
      ]
     },
     "execution_count": 539,
     "metadata": {},
     "output_type": "execute_result"
    }
   ],
   "source": [
    "assortT[1000:].mean()"
   ]
  },
  {
   "cell_type": "code",
   "execution_count": null,
   "id": "cfb288fc-cc47-4c32-a301-9fabf96b66ec",
   "metadata": {},
   "outputs": [],
   "source": []
  },
  {
   "cell_type": "code",
   "execution_count": null,
   "id": "f172d737-91d9-42f5-91eb-f2b2cdb96a1d",
   "metadata": {},
   "outputs": [],
   "source": []
  },
  {
   "cell_type": "code",
   "execution_count": 682,
   "id": "8828f39a-890d-49f6-9e19-c910fbecedfe",
   "metadata": {},
   "outputs": [
    {
     "data": {
      "text/plain": [
       "array([[0.74718223, 0.74781394, 0.7485984 , 0.74959865, 0.75091793,\n",
       "        0.7527378 , 0.75540993, 0.75971601, 0.76781477, 0.78866009],\n",
       "       [0.74718223, 0.74781394, 0.7485984 , 0.74959865, 0.75091793,\n",
       "        0.7527378 , 0.75540993, 0.75971601, 0.76781477, 0.78866009],\n",
       "       [0.74718223, 0.74781394, 0.7485984 , 0.74959865, 0.75091793,\n",
       "        0.7527378 , 0.75540993, 0.75971601, 0.76781477, 0.78866009],\n",
       "       [0.74718223, 0.74781394, 0.7485984 , 0.74959865, 0.75091793,\n",
       "        0.7527378 , 0.75540993, 0.75971601, 0.76781477, 0.78866009],\n",
       "       [0.74718223, 0.74781394, 0.7485984 , 0.74959865, 0.75091793,\n",
       "        0.7527378 , 0.75540993, 0.75971601, 0.76781477, 0.78866009],\n",
       "       [0.74718223, 0.74781394, 0.7485984 , 0.74959865, 0.75091793,\n",
       "        0.7527378 , 0.75540993, 0.75971601, 0.76781477, 0.78866009],\n",
       "       [0.74718223, 0.74781394, 0.7485984 , 0.74959865, 0.75091793,\n",
       "        0.7527378 , 0.75540993, 0.75971601, 0.76781477, 0.78866009],\n",
       "       [0.74718223, 0.74781394, 0.7485984 , 0.74959865, 0.75091793,\n",
       "        0.7527378 , 0.75540993, 0.75971601, 0.76781477, 0.78866009],\n",
       "       [0.74718223, 0.74781394, 0.7485984 , 0.74959865, 0.75091793,\n",
       "        0.7527378 , 0.75540993, 0.75971601, 0.76781477, 0.78866009],\n",
       "       [0.74718223, 0.74781394, 0.7485984 , 0.74959865, 0.75091793,\n",
       "        0.7527378 , 0.75540993, 0.75971601, 0.76781477, 0.78866009],\n",
       "       [0.98609652, 0.98603051, 0.98594854, 0.98584403, 0.98570618,\n",
       "        0.98551602, 0.98523681, 0.98478688, 0.98394065, 0.98176255]])"
      ]
     },
     "execution_count": 682,
     "metadata": {},
     "output_type": "execute_result"
    }
   ],
   "source": [
    "def predict_msm_block(B, theta, Z, pr):\n",
    "    \"\"\"\n",
    "    predict multiscale mixing based on a DC-SBM\n",
    "    mixing matrix\n",
    "    \n",
    "    Returns\n",
    "    -------\n",
    "    \n",
    "    predM : array_like \n",
    "        C x len(pr) array of expected local assortativities for each block.\n",
    "        predM[C, i] corresponds to the expected local assortativity of nodes\n",
    "        in cluster C with alpha = i\n",
    "    \n",
    "    predT : array_like\n",
    "        C x 1 array of expected multiscale assortattivities for each block.\n",
    "        predT[C] is the expected multiscale assortativity for community C\n",
    "    \"\"\"\n",
    "    D = np.diag(B.sum(axis=0))\n",
    "    P = np.linalg.inv(D) @ B\n",
    "    \n",
    "    ar2 = (B.sum(axis=0) / B.sum())**2\n",
    "    qmax = 1 - ar2.sum()\n",
    "    \n",
    "    predM = np.zeros((C, len(pr)))\n",
    "    predT = np.zeros((C,1))\n",
    "\n",
    "    for i in range(C):\n",
    "        u = np.where(Z[:,i]==1)[0][0]\n",
    "        \n",
    "        for j, alpha in enumerate((1-pr)):\n",
    "            pi = np.zeros(N)\n",
    "            pi[u] = 1\n",
    "            \n",
    "            alpha_pi_t = pi @ Z * alpha\n",
    "            inv_transform = np.linalg.inv(np.eye(C) - (1-alpha)*P)\n",
    "            \n",
    "            # p is blockwise PPR\n",
    "            p = alpha_pi_t @ inv_transform\n",
    "            \n",
    "            # compute multiscale mixing from PPR\n",
    "            eggl = p * np.diag(B)/ B.sum(axis=0)\n",
    "            predM[i,j] = (eggl.sum() - ar2.sum()) / qmax\n",
    "            \n",
    "            \n",
    "    # use the trapezoid rule to estimate predT\n",
    "    delta = (pr - np.roll(pr,1))[1:]\n",
    "\n",
    "    traps = (predM + np.roll(predM, 1))[:,1:] / 2\n",
    "    predT = (traps * delta).sum(axis=1) / pr.max()\n",
    "    return predM, predT\n",
    "            \n",
    "\n",
    "def predict_msm(A,M):\n",
    "    \"\"\"\n",
    "    for any given network, predict multiscale mixing\n",
    "    for each node\n",
    "    \"\"\"\n",
    "    return 0\n",
    "    \n",
    "    \n",
    "pr = np.arange(0,1,0.1)\n",
    "predM, predT = predict_msm_block(B, theta, Z, pr)\n",
    "predM"
   ]
  },
  {
   "cell_type": "code",
   "execution_count": null,
   "id": "058719e9-b529-4704-a682-c25d66d53ef7",
   "metadata": {},
   "outputs": [],
   "source": []
  },
  {
   "cell_type": "code",
   "execution_count": 606,
   "id": "7567023f-aab2-4fa0-aaa4-67836089605e",
   "metadata": {},
   "outputs": [
    {
     "data": {
      "text/plain": [
       "array([[0.85316905, 0.83960335, 0.82701056, ..., 0.78218242, 0.77903605,\n",
       "        0.77971311],\n",
       "       [0.5623862 , 0.58176878, 0.60140709, ..., 0.70728298, 0.73215838,\n",
       "        0.76008327],\n",
       "       [0.82001368, 0.81485092, 0.8095455 , ..., 0.7841836 , 0.78172993,\n",
       "        0.78252029],\n",
       "       ...,\n",
       "       [0.98277909, 0.98298611, 0.98318667, ..., 0.9838417 , 0.98383517,\n",
       "        0.9837542 ],\n",
       "       [0.98245416, 0.9826518 , 0.98284934, ..., 0.98361351, 0.98365966,\n",
       "        0.98364375],\n",
       "       [0.95203803, 0.95517684, 0.95831525, ..., 0.97376282, 0.97674087,\n",
       "        0.97965595]])"
      ]
     },
     "execution_count": 606,
     "metadata": {},
     "output_type": "execute_result"
    }
   ],
   "source": [
    "G = nx.convert_matrix.from_numpy_matrix(A)\n",
    "E = nx.convert_matrix.to_pandas_edgelist(G).values[:,:2]\n",
    "\n",
    "attr = []\n",
    "\n",
    "for i in range(C - 1):\n",
    "    attr.append(np.ones(100, dtype=int) * i)\n",
    "\n",
    "attr.append(np.ones(1000, dtype=int)*10)\n",
    "\n",
    "M = np.hstack(attr)\n",
    "assortM, assortT, _ = localAssortF(E,M,pr=pr)\n",
    "\n",
    "assortM"
   ]
  },
  {
   "cell_type": "code",
   "execution_count": 683,
   "id": "21813453-9803-4ae2-854e-b227b6d6925e",
   "metadata": {},
   "outputs": [
    {
     "data": {
      "text/plain": [
       "array([0.74974058, 0.75050938, 0.75142398, 0.75254437, 0.75396776,\n",
       "       0.75585805, 0.7584982 , 0.76237881, 0.76834125, 0.77779889])"
      ]
     },
     "execution_count": 683,
     "metadata": {},
     "output_type": "execute_result"
    }
   ],
   "source": [
    "assortM[:1000].mean(axis=0)"
   ]
  },
  {
   "cell_type": "code",
   "execution_count": 684,
   "id": "f2a1d9f3-2a35-40cc-ba7d-7b0c5c5eaa41",
   "metadata": {},
   "outputs": [
    {
     "data": {
      "text/plain": [
       "array([0.98628823, 0.98618406, 0.98606492, 0.9859257 , 0.98576   ,\n",
       "       0.98556018, 0.98531736, 0.9850214 , 0.98466092, 0.98422327])"
      ]
     },
     "execution_count": 684,
     "metadata": {},
     "output_type": "execute_result"
    }
   ],
   "source": [
    "assortM[1000:].mean(axis=0)"
   ]
  },
  {
   "cell_type": "code",
   "execution_count": 685,
   "id": "4994513a-e0e3-4a49-9e7c-11e74823bc21",
   "metadata": {},
   "outputs": [
    {
     "data": {
      "text/plain": [
       "array([0.74718223, 0.74781394, 0.7485984 , 0.74959865, 0.75091793,\n",
       "       0.7527378 , 0.75540993, 0.75971601, 0.76781477, 0.78866009])"
      ]
     },
     "execution_count": 685,
     "metadata": {},
     "output_type": "execute_result"
    }
   ],
   "source": [
    "predM[2]"
   ]
  },
  {
   "cell_type": "code",
   "execution_count": 686,
   "id": "41fdf264-b84f-46d9-8ebf-0b5ee9cfd588",
   "metadata": {},
   "outputs": [
    {
     "data": {
      "text/plain": [
       "array([0.74974058, 0.75050938, 0.75142398, 0.75254437, 0.75396776,\n",
       "       0.75585805, 0.7584982 , 0.76237881, 0.76834125, 0.77779889])"
      ]
     },
     "execution_count": 686,
     "metadata": {},
     "output_type": "execute_result"
    }
   ],
   "source": [
    "assortM[:1000].mean(axis=0)"
   ]
  },
  {
   "cell_type": "code",
   "execution_count": 687,
   "id": "0909dfe1-b468-4e9c-ad26-2c80b02229d9",
   "metadata": {},
   "outputs": [
    {
     "data": {
      "text/plain": [
       "<matplotlib.collections.PathCollection at 0x116857790>"
      ]
     },
     "execution_count": 687,
     "metadata": {},
     "output_type": "execute_result"
    },
    {
     "data": {
      "image/png": "[encoded data removed]",
      "text/plain": [
       "<Figure size 432x288 with 1 Axes>"
      ]
     },
     "metadata": {
      "needs_background": "light"
     },
     "output_type": "display_data"
    }
   ],
   "source": [
    "from matplotlib import pyplot as plt\n",
    "alpha = 0\n",
    "\n",
    "y = []\n",
    "\n",
    "for i in range(C):\n",
    "    y.append(assortM[thresholds[i]:thresholds[i+1] , alpha].mean())\n",
    "    \n",
    "plt.scatter(Z.sum(axis=0), y)\n",
    "\n",
    "plt.scatter(Z.sum(axis=0), predM[:,alpha])"
   ]
  },
  {
   "cell_type": "code",
   "execution_count": 688,
   "id": "3586f9f9-5745-42b9-a883-f6d4ee3ed140",
   "metadata": {},
   "outputs": [
    {
     "data": {
      "text/plain": [
       "<matplotlib.collections.PathCollection at 0x116d49910>"
      ]
     },
     "execution_count": 688,
     "metadata": {},
     "output_type": "execute_result"
    },
    {
     "data": {
      "image/png": "[encoded data removed]",
      "text/plain": [
       "<Figure size 432x288 with 1 Axes>"
      ]
     },
     "metadata": {
      "needs_background": "light"
     },
     "output_type": "display_data"
    }
   ],
   "source": [
    "alpha = 8\n",
    "\n",
    "y = []\n",
    "\n",
    "for i in range(C):\n",
    "    y.append(assortM[thresholds[i]:thresholds[i+1] , alpha].mean())\n",
    "    \n",
    "plt.scatter(Z.sum(axis=0), y)\n",
    "\n",
    "plt.scatter(Z.sum(axis=0), predM[:,alpha])"
   ]
  },
  {
   "cell_type": "code",
   "execution_count": 690,
   "id": "b6fc69cb-347f-41c1-b013-c9f986437054",
   "metadata": {},
   "outputs": [
    {
     "data": {
      "text/plain": [
       "<matplotlib.collections.PathCollection at 0x116836c10>"
      ]
     },
     "execution_count": 690,
     "metadata": {},
     "output_type": "execute_result"
    },
    {
     "data": {
      "image/png": "[encoded data removed]",
      "text/plain": [
       "<Figure size 432x288 with 1 Axes>"
      ]
     },
     "metadata": {
      "needs_background": "light"
     },
     "output_type": "display_data"
    }
   ],
   "source": [
    "y = []\n",
    "\n",
    "for i in range(C):\n",
    "    y.append(assortM[thresholds[i]:thresholds[i+1] , alpha].mean())\n",
    "\n",
    "plt.scatter(Z.sum(axis=0),y)\n",
    "plt.scatter(Z.sum(axis=0),predT)"
   ]
  },
  {
   "cell_type": "code",
   "execution_count": 618,
   "id": "2091fccd-e840-460b-8283-31eaba0e69fb",
   "metadata": {},
   "outputs": [
    {
     "data": {
      "text/plain": [
       "<matplotlib.collections.PathCollection at 0x11bf90310>"
      ]
     },
     "execution_count": 618,
     "metadata": {},
     "output_type": "execute_result"
    },
    {
     "data": {
      "image/png": "[encoded data removed]",
      "text/plain": [
       "<Figure size 432x288 with 1 Axes>"
      ]
     },
     "metadata": {
      "needs_background": "light"
     },
     "output_type": "display_data"
    }
   ],
   "source": [
    "plt.scatter(pr, assortM[:1000].mean(axis=0))"
   ]
  },
  {
   "cell_type": "code",
   "execution_count": 644,
   "id": "3e545f28-6ec5-4929-ac46-1d4036964913",
   "metadata": {},
   "outputs": [
    {
     "data": {
      "text/plain": [
       "0.7574768365544177"
      ]
     },
     "execution_count": 644,
     "metadata": {},
     "output_type": "execute_result"
    }
   ],
   "source": [
    "trapz(assortM[:1000].mean(axis=0),pr) / 0.9"
   ]
  },
  {
   "cell_type": "code",
   "execution_count": 643,
   "id": "21556b6d-4656-47a7-b0c1-949c0bbbeae7",
   "metadata": {},
   "outputs": [
    {
     "data": {
      "text/plain": [
       "0.9853749271956477"
      ]
     },
     "execution_count": 643,
     "metadata": {},
     "output_type": "execute_result"
    }
   ],
   "source": [
    "assortT[1000:].mean()"
   ]
  },
  {
   "cell_type": "code",
   "execution_count": 647,
   "id": "b9a7ef70-7c64-4e51-9d3b-afbb0c815af9",
   "metadata": {},
   "outputs": [
    {
     "data": {
      "text/plain": [
       "0.7574768365544177"
      ]
     },
     "execution_count": 647,
     "metadata": {},
     "output_type": "execute_result"
    }
   ],
   "source": [
    "delta = (pr - np.roll(pr,1))[1:]\n",
    "\n",
    "y =  assortM[:1000].mean(axis=0)\n",
    "\n",
    "traps = (y + np.roll(y, 1))[1:] / 2\n",
    "\n",
    "(traps * delta).sum() / pr.max()"
   ]
  },
  {
   "cell_type": "code",
   "execution_count": 681,
   "id": "43a75101-384b-4846-92c6-53a607010cab",
   "metadata": {},
   "outputs": [
    {
     "data": {
      "text/plain": [
       "array([0.75561429, 0.75561429, 0.75561429, 0.75561429, 0.75561429,\n",
       "       0.75561429, 0.75561429, 0.75561429, 0.75561429, 0.75561429,\n",
       "       0.98521546])"
      ]
     },
     "execution_count": 681,
     "metadata": {},
     "output_type": "execute_result"
    }
   ],
   "source": [
    "delta = (pr - np.roll(pr,1))[1:]\n",
    "\n",
    "traps = (predM + np.roll(predM, 1))[:,1:] / 2\n",
    "(traps * delta).sum(axis=1) / pr.max()"
   ]
  },
  {
   "cell_type": "code",
   "execution_count": 679,
   "id": "6df6bafe-02b8-42cb-a5a5-d56831a4a115",
   "metadata": {},
   "outputs": [
    {
     "data": {
      "text/plain": [
       "array([0.75561429, 0.75561429, 0.75561429, 0.75561429, 0.75561429,\n",
       "       0.75561429, 0.75561429, 0.75561429, 0.75561429, 0.75561429,\n",
       "       0.98521546])"
      ]
     },
     "execution_count": 679,
     "metadata": {},
     "output_type": "execute_result"
    }
   ],
   "source": [
    "(traps * delta).sum(axis=1) / pr.max()"
   ]
  },
  {
   "cell_type": "code",
   "execution_count": 671,
   "id": "855c6cd5-d43e-4a0a-9271-ae9d83ef9bec",
   "metadata": {},
   "outputs": [
    {
     "data": {
      "text/plain": [
       "array([0.1, 0.1, 0.1, 0.1, 0.1, 0.1, 0.1, 0.1, 0.1])"
      ]
     },
     "execution_count": 671,
     "metadata": {},
     "output_type": "execute_result"
    }
   ],
   "source": []
  }
 ],
 "metadata": {
  "kernelspec": {
   "display_name": "Python 3",
   "language": "python",
   "name": "python3"
  },
  "language_info": {
   "codemirror_mode": {
    "name": "ipython",
    "version": 3
   },
   "file_extension": ".py",
   "mimetype": "text/x-python",
   "name": "python",
   "nbconvert_exporter": "python",
   "pygments_lexer": "ipython3",
   "version": "3.9.5"
  }
 },
 "nbformat": 4,
 "nbformat_minor": 5
}
