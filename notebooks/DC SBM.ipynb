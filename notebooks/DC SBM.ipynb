{
 "cells": [
  {
   "cell_type": "markdown",
   "id": "6a4abc34-0aa5-4ca8-833d-2787ea1b0a06",
   "metadata": {},
   "source": [
    "Let's try generating a DC-SBM properly and then do the PPR stuff again.  This way we don't have to worry about errors translating from the SBM.\n",
    "\n",
    "10 communities w/ 100 nodes each, 1 one with 1,000"
   ]
  },
  {
   "cell_type": "code",
   "execution_count": 464,
   "id": "a16f25ae-b2ca-41eb-a0e9-579f740091c7",
   "metadata": {},
   "outputs": [],
   "source": [
    "import numpy as np\n",
    "from scipy.integrate import trapz"
   ]
  },
  {
   "cell_type": "code",
   "execution_count": 494,
   "id": "9be61ad2-54bd-4598-b278-d8e70830b47c",
   "metadata": {},
   "outputs": [],
   "source": [
    "# block membership matrix\n",
    "Z = np.zeros((2000, 11), dtype=int)\n",
    "\n",
    "sizes = np.append(np.array([100]*10), 1000)\n",
    "C = len(sizes)\n",
    "N = sizes.sum()\n",
    "\n",
    "thresholds = np.zeros(len(sizes) + 1, dtype=int)\n",
    "thresholds[1:] = sizes\n",
    "\n",
    "for i in range(2, len(thresholds)):\n",
    "    thresholds[i:] += sizes[i-2]\n",
    "\n",
    "for i in range(C):\n",
    "    Z[thresholds[i]:thresholds[i+1]][:,i] = 1\n",
    "\n",
    "    \n",
    "# mixing matrix\n",
    "# average of 8 edges between the smaller off-diagonal classes\n",
    "B = np.ones((C,C)) * 8\n",
    "B[:,-1] *= 10\n",
    "B[-1, :] *= 10\n",
    "\n",
    "for i in range(C -1):\n",
    "    B[i,i] = 3200\n",
    "    \n",
    "B[-1,-1] = 320000\n",
    "\n",
    "# theta should sum to 1 for each block\n",
    "theta = np.ones(N)\n",
    "theta[:1000] *= 1e-2\n",
    "theta[1000:] *= 1e-3\n",
    "\n",
    "assert theta.sum() == C\n",
    "\n",
    "# generate random graph\n",
    "A = np.zeros((N,N), dtype=int)\n",
    "rng = np.random.default_rng(7777778)\n",
    "choices = rng.uniform(size=N*(N-1)//2)\n",
    "\n",
    "# probabilities for each pair of nodes\n",
    "theta = np.diag(theta)\n",
    "p = (theta @ Z @ B @ Z.T @ theta)\n",
    "\n",
    "# this sucks but yeet\n",
    "A = np.zeros((N,N), dtype=int)\n",
    "\n",
    "k = 0\n",
    "for i in range(N):\n",
    "    for j in range(i+1, N):\n",
    "        if choices[k] < p[i,j]:\n",
    "            A[i,j] = 1\n",
    "            A[j,i] = 1\n",
    "        k+=1"
   ]
  },
  {
   "cell_type": "code",
   "execution_count": 495,
   "id": "47d57c7e-8913-4083-8fc2-6761fffc0266",
   "metadata": {},
   "outputs": [
    {
     "name": "stdout",
     "output_type": "stream",
     "text": [
      "88.0\n",
      "-110.0\n",
      "-92.0\n",
      "-37.0\n",
      "29.0\n",
      "-12.0\n",
      "-21.0\n",
      "-49.0\n",
      "48.0\n",
      "47.0\n",
      "-757.0\n"
     ]
    }
   ],
   "source": [
    "for i in range(C):\n",
    "    print(A[thresholds[i]:thresholds[i+1]].sum() - B.sum(axis=0)[i])"
   ]
  },
  {
   "cell_type": "code",
   "execution_count": 496,
   "id": "a04c561e-74bb-4f82-99d2-f2d39cf638d3",
   "metadata": {},
   "outputs": [
    {
     "name": "stdout",
     "output_type": "stream",
     "text": [
      "86.0\n",
      "-104.0\n",
      "-102.0\n",
      "-38.0\n",
      "40.0\n",
      "2.0\n",
      "-24.0\n",
      "-68.0\n",
      "56.0\n",
      "54.0\n",
      "-746.0\n"
     ]
    }
   ],
   "source": [
    "for i in range(C):\n",
    "    print(\n",
    "        A[thresholds[i]:thresholds[i+1], thresholds[i]:thresholds[i+1]].sum() - B[i,i])"
   ]
  },
  {
   "cell_type": "code",
   "execution_count": 497,
   "id": "0f9bb4c2-15c2-4f79-a257-d16bc6d938e5",
   "metadata": {},
   "outputs": [
    {
     "data": {
      "text/plain": [
       "array([  3352.,   3352.,   3352.,   3352.,   3352.,   3352.,   3352.,\n",
       "         3352.,   3352.,   3352., 320800.])"
      ]
     },
     "execution_count": 497,
     "metadata": {},
     "output_type": "execute_result"
    }
   ],
   "source": [
    "B.sum(axis=0)"
   ]
  },
  {
   "cell_type": "code",
   "execution_count": null,
   "id": "c03ee23b-fb30-4cc7-9486-d21fe77ab9ea",
   "metadata": {},
   "outputs": [],
   "source": []
  },
  {
   "cell_type": "markdown",
   "id": "a5584cb4-969a-4de2-a898-47994d0c428e",
   "metadata": {},
   "source": [
    "Ok I am satisfied.  This DC-SBM looks legit.\n",
    "\n",
    "Compute blockwise PPR"
   ]
  },
  {
   "cell_type": "code",
   "execution_count": 498,
   "id": "71425313-189b-485f-aa90-1fc03550d89a",
   "metadata": {},
   "outputs": [
    {
     "data": {
      "text/plain": [
       "array([0.90456059, 0.00477533, 0.00477533, 0.00477533, 0.00477533,\n",
       "       0.00477533, 0.00477533, 0.00477533, 0.00477533, 0.00477533,\n",
       "       0.05246141])"
      ]
     },
     "execution_count": 498,
     "metadata": {},
     "output_type": "execute_result"
    }
   ],
   "source": [
    "# fix source node of PPR for now\n",
    "u = 7\n",
    "alpha = 0.3\n",
    "\n",
    "pi = np.zeros(N)\n",
    "pi[u] = 1\n",
    "\n",
    "D = np.diag(B.sum(axis=0))\n",
    "P = np.linalg.inv(D) @ B\n",
    "\n",
    "alpha_pi_t = pi @ Z * alpha\n",
    "\n",
    "\n",
    "inv_transform = np.linalg.inv(np.eye(C) - (1-alpha)*P)\n",
    "p = alpha_pi_t @ inv_transform\n",
    "\n",
    "# blockwise PPR vector\n",
    "p"
   ]
  },
  {
   "cell_type": "code",
   "execution_count": null,
   "id": "c7c98241-5aca-4159-8820-07ff4c1ff91a",
   "metadata": {},
   "outputs": [],
   "source": []
  },
  {
   "cell_type": "code",
   "execution_count": 499,
   "id": "434322eb-d30d-4f5f-b3b3-314c2b3c4cb9",
   "metadata": {},
   "outputs": [],
   "source": [
    "from lassort.localassort import calculateRWRrange\n",
    "\n",
    "# is this correct?\n",
    "degree = A.sum(axis=0)\n",
    "D = np.diag(1./degree, 0)\n",
    "# construct transition matrix (row normalised adjacency matrix)\n",
    "W = D @ A\n",
    "\n",
    "pr = np.array([alpha])\n",
    "\n",
    "pis, ti, it = calculateRWRrange(W, 100, pr, N)"
   ]
  },
  {
   "cell_type": "code",
   "execution_count": 500,
   "id": "d7a3ccc7-08e4-40d5-b6df-add906b37432",
   "metadata": {},
   "outputs": [
    {
     "data": {
      "text/plain": [
       "0.0007084564687767997"
      ]
     },
     "execution_count": 500,
     "metadata": {},
     "output_type": "execute_result"
    }
   ],
   "source": [
    "ti[:100].sum()"
   ]
  },
  {
   "cell_type": "code",
   "execution_count": 501,
   "id": "f8b4ab91-4126-4497-9769-12ee3e9400f7",
   "metadata": {},
   "outputs": [
    {
     "data": {
      "text/plain": [
       "0.913508264314111"
      ]
     },
     "execution_count": 501,
     "metadata": {},
     "output_type": "execute_result"
    }
   ],
   "source": [
    "ti[100:200].sum()"
   ]
  },
  {
   "cell_type": "code",
   "execution_count": 502,
   "id": "37e12859-b3fc-4b6b-906a-17a8a123df4e",
   "metadata": {},
   "outputs": [
    {
     "data": {
      "text/plain": [
       "0.0007069888864222242"
      ]
     },
     "execution_count": 502,
     "metadata": {},
     "output_type": "execute_result"
    }
   ],
   "source": [
    "ti[200:300].sum()"
   ]
  },
  {
   "cell_type": "code",
   "execution_count": 503,
   "id": "a97f3bb4-1ce2-43ab-b194-04a285ffa3da",
   "metadata": {},
   "outputs": [
    {
     "data": {
      "text/plain": [
       "0.0011422256022391288"
      ]
     },
     "execution_count": 503,
     "metadata": {},
     "output_type": "execute_result"
    }
   ],
   "source": [
    "ti[400:500].sum()"
   ]
  },
  {
   "cell_type": "markdown",
   "id": "de366d6f-0e95-4d3e-9ffd-225f0a312e93",
   "metadata": {},
   "source": [
    "Ooookay...  I think this is right actually."
   ]
  },
  {
   "cell_type": "code",
   "execution_count": 504,
   "id": "7a19d3ad-6f57-4acd-9a83-8dd32842078c",
   "metadata": {},
   "outputs": [
    {
     "data": {
      "text/plain": [
       "0.7597160126411407"
      ]
     },
     "execution_count": 504,
     "metadata": {},
     "output_type": "execute_result"
    }
   ],
   "source": [
    "# compute expected  multiscale mixing\n",
    "# egl - ar^2\n",
    "ar2 = (B.sum(axis=0) / B.sum())**2\n",
    "\n",
    "eggl = p * np.diag(B)/ B.sum(axis=0)\n",
    "\n",
    "\n",
    "qmax = 1 - ar2.sum()\n",
    "r_loc = (eggl.sum() - ar2.sum()) / qmax\n",
    "\n",
    "r_loc"
   ]
  },
  {
   "cell_type": "code",
   "execution_count": 436,
   "id": "c2a9f6f7-7048-4274-be6e-d9dc8bbef7f3",
   "metadata": {},
   "outputs": [],
   "source": [
    "from lassort import localAssortF\n",
    "import networkx as nx"
   ]
  },
  {
   "cell_type": "code",
   "execution_count": 505,
   "id": "683af5e3-597e-4584-9500-e23bc2f265f7",
   "metadata": {},
   "outputs": [],
   "source": [
    "G = nx.convert_matrix.from_numpy_matrix(A)\n",
    "E = nx.convert_matrix.to_pandas_edgelist(G).values[:,:2]\n"
   ]
  },
  {
   "cell_type": "code",
   "execution_count": 506,
   "id": "76764d64-57b0-4c94-89ba-2c5dd912b320",
   "metadata": {},
   "outputs": [
    {
     "data": {
      "text/plain": [
       "array([0.7992832 , 0.6635741 , 0.79227753, ..., 0.98362697, 0.9833658 ,\n",
       "       0.96762478])"
      ]
     },
     "execution_count": 506,
     "metadata": {},
     "output_type": "execute_result"
    }
   ],
   "source": [
    "attr = []\n",
    "\n",
    "for i in range(C - 1):\n",
    "    attr.append(np.ones(100, dtype=int) * i)\n",
    "    \n",
    "attr.append(np.ones(1000, dtype=int)*10)\n",
    "\n",
    "M = np.hstack(attr)\n",
    "assortM, assortT, _ = localAssortF(E,M,pr=np.array([0.3]))\n",
    "                                   \n",
    "assortT"
   ]
  },
  {
   "cell_type": "code",
   "execution_count": 507,
   "id": "08c55996-8948-47e9-b425-bf2f9075b748",
   "metadata": {},
   "outputs": [
    {
     "data": {
      "text/plain": [
       "0.7563480046505685"
      ]
     },
     "execution_count": 507,
     "metadata": {},
     "output_type": "execute_result"
    }
   ],
   "source": [
    "assortT[:1000].mean()"
   ]
  },
  {
   "cell_type": "markdown",
   "id": "126411eb-8a1e-41a9-b828-8176c26fb9ae",
   "metadata": {},
   "source": [
    "This is close...\n",
    "\n",
    "Let's try one in the big chonk"
   ]
  },
  {
   "cell_type": "code",
   "execution_count": 538,
   "id": "30dfbe53-5e5b-4552-9aef-4c25f20077d5",
   "metadata": {},
   "outputs": [
    {
     "data": {
      "text/plain": [
       "0.984786876776065"
      ]
     },
     "execution_count": 538,
     "metadata": {},
     "output_type": "execute_result"
    }
   ],
   "source": [
    "# fix source node of PPR for now\n",
    "u = 1554\n",
    "alpha = 0.3\n",
    "\n",
    "pi = np.zeros(N)\n",
    "pi[u] = 1\n",
    "\n",
    "D = np.diag(B.sum(axis=0))\n",
    "P = np.linalg.inv(D) @ B\n",
    "\n",
    "alpha_pi_t = pi @ Z * alpha\n",
    "\n",
    "\n",
    "inv_transform = np.linalg.inv(np.eye(C) - (1-alpha)*P)\n",
    "p = alpha_pi_t @ inv_transform\n",
    "\n",
    "# compute expected  multiscale mixing\n",
    "# egl - ar^2\n",
    "ar2 = (B.sum(axis=0) / B.sum())**2\n",
    "\n",
    "eggl = p * np.diag(B)/ B.sum(axis=0)\n",
    "\n",
    "\n",
    "qmax = 1 - ar2.sum()\n",
    "r_loc = (eggl.sum() - ar2.sum()) / qmax\n",
    "\n",
    "r_loc"
   ]
  },
  {
   "cell_type": "code",
   "execution_count": 539,
   "id": "d2eb8781-e0ec-4ffc-aa0f-c6f5101240f1",
   "metadata": {},
   "outputs": [
    {
     "data": {
      "text/plain": [
       "0.9853749271956477"
      ]
     },
     "execution_count": 539,
     "metadata": {},
     "output_type": "execute_result"
    }
   ],
   "source": [
    "assortT[1000:].mean()"
   ]
  },
  {
   "cell_type": "code",
   "execution_count": null,
   "id": "cfb288fc-cc47-4c32-a301-9fabf96b66ec",
   "metadata": {},
   "outputs": [],
   "source": []
  },
  {
   "cell_type": "code",
   "execution_count": null,
   "id": "f172d737-91d9-42f5-91eb-f2b2cdb96a1d",
   "metadata": {},
   "outputs": [],
   "source": []
  },
  {
   "cell_type": "code",
   "execution_count": 849,
   "id": "8828f39a-890d-49f6-9e19-c910fbecedfe",
   "metadata": {},
   "outputs": [
    {
     "data": {
      "text/plain": [
       "array([[-1.83654688e-01, -1.58466816e-01, -1.32915435e-01,\n",
       "        -1.06991068e-01, -8.06838518e-02, -5.39835129e-02,\n",
       "        -2.68793456e-02,  6.39816088e-04,  2.85856259e-02,\n",
       "         5.69702562e-02],\n",
       "       [-1.15586721e-01, -9.73979755e-02, -7.88105888e-02,\n",
       "        -5.98124611e-02, -4.03909830e-02, -2.05330061e-02,\n",
       "        -2.24812167e-04,  2.05479214e-02,  4.18001575e-02,\n",
       "         6.35475390e-02],\n",
       "       [-2.06006948e-01, -1.78467019e-01, -1.50587183e-01,\n",
       "        -1.22358793e-01, -9.37728426e-02, -6.48199504e-02,\n",
       "        -3.54903344e-02, -5.77378823e-03,  2.43403453e-02,\n",
       "         5.48632028e-02],\n",
       "       [-1.97224446e-01, -1.70611829e-01, -1.43649308e-01,\n",
       "        -1.16327917e-01, -8.86383203e-02, -6.05707949e-02,\n",
       "        -3.21152043e-02, -3.26097496e-03,  2.60029315e-02,\n",
       "         5.56880475e-02],\n",
       "       [-1.21151617e-01, -1.02399918e-01, -8.32504106e-02,\n",
       "        -6.36911988e-02, -4.37098899e-02, -2.32935642e-02,\n",
       "        -2.42874506e-03,  1.88986347e-02,  4.07032681e-02,\n",
       "         6.30005125e-02],\n",
       "       [ 2.95715470e-01,  2.76926905e-01,  2.57699366e-01,\n",
       "         2.38015773e-01,  2.17858089e-01,  1.97207253e-01,\n",
       "         1.76043100e-01,  1.54344276e-01,  1.32088148e-01,\n",
       "         1.09250703e-01],\n",
       "       [-2.20748367e-01, -1.91642768e-01, -1.62216164e-01,\n",
       "        -1.32460414e-01, -1.02367036e-01, -7.19271916e-02,\n",
       "        -4.11316604e-02, -9.97081809e-03,  2.15653895e-02,\n",
       "         5.34874733e-02],\n",
       "       [ 1.55040043e-01,  1.47861945e-01,  1.40716910e-01,\n",
       "         1.33612457e-01,  1.26556774e-01,  1.19558780e-01,\n",
       "         1.12628188e-01,  1.05775584e-01,  9.90125094e-02,\n",
       "         9.23515477e-02],\n",
       "       [-1.03594832e-01, -8.66135848e-02, -6.92331175e-02,\n",
       "        -5.14409031e-02, -3.32238795e-02, -1.45684187e-02,\n",
       "         4.53970643e-03,  2.41153575e-02,  4.41740693e-02,\n",
       "         6.47320911e-02],\n",
       "       [-1.83654688e-01, -1.58466816e-01, -1.32915435e-01,\n",
       "        -1.06991068e-01, -8.06838518e-02, -5.39835129e-02,\n",
       "        -2.68793456e-02,  6.39816088e-04,  2.85856259e-02,\n",
       "         5.69702562e-02]])"
      ]
     },
     "execution_count": 849,
     "metadata": {},
     "output_type": "execute_result"
    }
   ],
   "source": [
    "def predict_msm_block(B, theta, Z, pr):\n",
    "    \"\"\"\n",
    "    predict multiscale mixing based on a DC-SBM\n",
    "    mixing matrix\n",
    "    \n",
    "    Returns\n",
    "    -------\n",
    "    \n",
    "    predM : array_like \n",
    "        C x len(pr) array of expected local assortativities for each block.\n",
    "        predM[C, i] corresponds to the expected local assortativity of nodes\n",
    "        in cluster C with alpha = i\n",
    "    \n",
    "    predT : array_like\n",
    "        C x 1 array of expected multiscale assortattivities for each block.\n",
    "        predT[C] is the expected multiscale assortativity for community C\n",
    "    \"\"\"\n",
    "    D = np.diag(B.sum(axis=0))\n",
    "    P = np.linalg.inv(D) @ B\n",
    "    \n",
    "    ar2 = (B.sum(axis=0) / B.sum())**2\n",
    "    qmax = 1 - ar2.sum()\n",
    "    \n",
    "    predM = np.zeros((C, len(pr)))\n",
    "    predT = np.zeros((C,1))\n",
    "\n",
    "    for i in range(C):\n",
    "        u = np.where(Z[:,i]==1)[0][0]\n",
    "        \n",
    "        for j, alpha in enumerate((1-pr)):\n",
    "            pi = np.zeros(N)\n",
    "            pi[u] = 1\n",
    "            \n",
    "            alpha_pi_t = pi @ Z * alpha\n",
    "            inv_transform = np.linalg.inv(np.eye(C) - (1-alpha)*P)\n",
    "            \n",
    "            # p is blockwise PPR\n",
    "            p = alpha_pi_t @ inv_transform\n",
    "            \n",
    "            # compute multiscale mixing from PPR\n",
    "            eggl = p * np.diag(B)/ B.sum(axis=0)\n",
    "            predM[i,j] = (eggl.sum() - ar2.sum()) / qmax\n",
    "            \n",
    "            \n",
    "    # use the trapezoid rule to estimate predT\n",
    "    delta = (pr - np.roll(pr,1))[1:]\n",
    "\n",
    "    traps = (predM + np.roll(predM, 1))[:,1:] / 2\n",
    "    predT = (traps * delta).sum(axis=1) / pr.max()\n",
    "    return predM, predT\n",
    "            \n",
    "    \n",
    "def generate_dc_sbm(B, theta, Z, seed):\n",
    "    \"\"\"\n",
    "    generate DC-SBM for use in actual multiscale mixing model\n",
    "    \"\"\"\n",
    "    # generate random graph\n",
    "    A = np.zeros((N,N), dtype=int)\n",
    "    rng = np.random.default_rng(seed)\n",
    "    choices = rng.uniform(size=N*(N-1)//2)\n",
    "\n",
    "    # probabilities for each pair of nodes\n",
    "    theta = np.diag(theta)\n",
    "    p = (theta @ Z @ B @ Z.T @ theta)\n",
    "    assert p.max() < 1, p.max()\n",
    "\n",
    "    # this sucks but yeet\n",
    "    A = np.zeros((N,N), dtype=int)\n",
    "\n",
    "    k = 0\n",
    "    for i in range(N):\n",
    "        for j in range(i+1, N):\n",
    "            if choices[k] < p[i,j]:\n",
    "                A[i,j] = 1\n",
    "                A[j,i] = 1\n",
    "            k+=1\n",
    "    \n",
    "    G = nx.convert_matrix.from_numpy_matrix(A)\n",
    "    E = nx.convert_matrix.to_pandas_edgelist(G).values[:,:2]\n",
    "    M = np.where(Z)[1]\n",
    "    \n",
    "    return E, M\n",
    "\n",
    "\n",
    "pr = np.arange(0,1,0.1)\n",
    "predM, predT = predict_msm_block(B, theta, Z, pr)\n",
    "predM"
   ]
  },
  {
   "cell_type": "code",
   "execution_count": 723,
   "id": "058719e9-b529-4704-a682-c25d66d53ef7",
   "metadata": {},
   "outputs": [
    {
     "data": {
      "text/plain": [
       "array([0.00471829, 0.02852622, 0.02908187, 0.01604939, 0.03318097,\n",
       "       0.01476923, 0.07193769, 0.02118395, 0.69429898, 0.08625342])"
      ]
     },
     "execution_count": 723,
     "metadata": {},
     "output_type": "execute_result"
    }
   ],
   "source": [
    "a = rng.pareto(1.8,size=10)\n",
    "\n",
    "a / a.sum()"
   ]
  },
  {
   "cell_type": "markdown",
   "id": "2a023e66-c173-415c-88bc-282e67be5b11",
   "metadata": {},
   "source": [
    "# Run real experiment"
   ]
  },
  {
   "cell_type": "code",
   "execution_count": 828,
   "id": "b7910bf9-4ca3-47d5-b7b2-986ca912ca27",
   "metadata": {},
   "outputs": [],
   "source": [
    "def truncated_power_law(gamma, k_0, n, rng, size=None):\n",
    "    \"\"\"\n",
    "    Generate a sample of size *size* from a power law distribution\n",
    "    with mininmum *k_0*, maximum *n*, and power *gamma*\n",
    "    \"\"\"\n",
    "    k_0=np.float64(k_0)\n",
    "    gamma=np.float64(gamma)\n",
    "    n=np.float64(n)\n",
    "    \n",
    "    if size:\n",
    "        U = rng.uniform(size=size)\n",
    "    else:\n",
    "        U = rng.uniform()\n",
    "        \n",
    "    return (\n",
    "        (k_0**(1-gamma) - \n",
    "             ( k_0**(1-gamma) - n**(1-gamma) ) * U \n",
    "        )**(1/(1-gamma))\n",
    "    )\n",
    "\n",
    "\n",
    "def powerlaw_partition(gamma, k_0, C, N, rng):\n",
    "    sizes = truncated_power_law(gamma,k_0,N/2,rng,size=C)\n",
    "    sizes = (N * sizes / sizes.sum()).astype(int) \n",
    "    \n",
    "    # adjust for any count lost in rounding\n",
    "    diff = N - sizes.sum()\n",
    "    sizes[0] += diff\n",
    "    \n",
    "    return sizes"
   ]
  },
  {
   "cell_type": "code",
   "execution_count": 880,
   "id": "21813453-9803-4ae2-854e-b227b6d6925e",
   "metadata": {},
   "outputs": [
    {
     "data": {
      "text/plain": [
       "<matplotlib.collections.PathCollection at 0x11fe4aa30>"
      ]
     },
     "execution_count": 880,
     "metadata": {},
     "output_type": "execute_result"
    },
    {
     "data": {
      "image/png": "[encoded data removed]",
      "text/plain": [
       "<Figure size 432x288 with 1 Axes>"
      ]
     },
     "metadata": {
      "needs_background": "light"
     },
     "output_type": "display_data"
    }
   ],
   "source": [
    "N = 2000\n",
    "C = 10\n",
    "gamma = 2.5\n",
    "k_0 = 8\n",
    "\n",
    "# Z is block membership matrix\n",
    "Z = np.zeros((N, C), dtype=int)\n",
    "\n",
    "sizes = powerlaw_partition(gamma, k_0, C, N, rng)\n",
    "\n",
    "thresholds = np.zeros(len(sizes) + 1, dtype=int)\n",
    "thresholds[1:] = sizes\n",
    "\n",
    "for i in range(2, len(thresholds)):\n",
    "    thresholds[i:] += sizes[i-2]\n",
    "\n",
    "for i in range(C):\n",
    "    Z[thresholds[i]:thresholds[i+1]][:,i] = 1\n",
    "    \n",
    "# mixing matrix\n",
    "B = np.ones((C,C)) * 8\n",
    "\n",
    "\n",
    "for i in range(C):\n",
    "    # 16% of possible internal edges exist in each class\n",
    "    B[i,i] = 0.08 * sizes[i] * (sizes[i] - 1)\n",
    "    \n",
    "    for j in range(i+1, C):\n",
    "        # 5% of possible external edges exist\n",
    "        B[i,j] = 0.05 * sizes[i] * sizes[j]\n",
    "        B[j,i] = B[i,j]\n",
    "        \n",
    "# degree distribution\n",
    "# assign edge wealth to each node\n",
    "theta = []\n",
    "\n",
    "for size in sizes:\n",
    "    s = rng.uniform(size=size)\n",
    "    theta.append(s/s.sum())\n",
    "    \n",
    "theta = np.hstack(theta)\n",
    "assert theta.sum() == C\n",
    "\n",
    "# predict values\n",
    "pr = np.arange(0,1,0.1)\n",
    "predM, predT = predict_msm_block(B, theta, Z, pr)\n",
    "\n",
    "# generate actual network and calculate MSM\n",
    "\n",
    "E, M = generate_dc_sbm(B, theta, Z, 24681012)\n",
    "assortM, assortT, _ = localAssortF(E,M)\n",
    "\n",
    "y = []\n",
    "\n",
    "for i in range(C):\n",
    "    y.append(assortT[thresholds[i]:thresholds[i+1]].mean())\n",
    "\n",
    "plt.scatter(Z.sum(axis=0),y)\n",
    "plt.scatter(Z.sum(axis=0),predT)"
   ]
  },
  {
   "cell_type": "code",
   "execution_count": 881,
   "id": "7304933d-24ea-466a-844c-98ae26bd9bee",
   "metadata": {},
   "outputs": [
    {
     "data": {
      "text/plain": [
       "<matplotlib.collections.PathCollection at 0x11fc216d0>"
      ]
     },
     "execution_count": 881,
     "metadata": {},
     "output_type": "execute_result"
    },
    {
     "data": {
      "image/png": "[encoded data removed]",
      "text/plain": [
       "<Figure size 432x288 with 1 Axes>"
      ]
     },
     "metadata": {
      "needs_background": "light"
     },
     "output_type": "display_data"
    }
   ],
   "source": [
    "# generate actual network and calculate MSM\n",
    "\n",
    "E, M = generate_dc_sbm(B, theta, Z, 333)\n",
    "assortM, assortT, _ = localAssortF(E,M)\n",
    "\n",
    "y = []\n",
    "\n",
    "for i in range(C):\n",
    "    y.append(assortT[thresholds[i]:thresholds[i+1]].mean())\n",
    "\n",
    "plt.scatter(Z.sum(axis=0),y)\n",
    "plt.scatter(Z.sum(axis=0),predT)"
   ]
  },
  {
   "cell_type": "code",
   "execution_count": 892,
   "id": "f2a1d9f3-2a35-40cc-ba7d-7b0c5c5eaa41",
   "metadata": {},
   "outputs": [
    {
     "name": "stdout",
     "output_type": "stream",
     "text": [
      "9\n",
      "9\n",
      "9\n",
      "9\n",
      "9\n",
      "9\n",
      "9\n",
      "9\n",
      "9\n",
      "9\n"
     ]
    },
    {
     "data": {
      "text/plain": [
       "<matplotlib.collections.PolyCollection at 0x117b7d160>"
      ]
     },
     "execution_count": 892,
     "metadata": {},
     "output_type": "execute_result"
    },
    {
     "data": {
      "image/png": "[encoded data removed]",
      "text/plain": [
       "<Figure size 432x288 with 1 Axes>"
      ]
     },
     "metadata": {
      "needs_background": "light"
     },
     "output_type": "display_data"
    }
   ],
   "source": [
    "n_trials = 10\n",
    "\n",
    "mMax = np.ones(C) * -np.inf\n",
    "mMin = np.ones(C) * np.inf\n",
    "\n",
    "for j in range(n_trials):\n",
    "    seed = j\n",
    "    E, M = generate_dc_sbm(B, theta, Z, seed)\n",
    "    assortM, assortT, _ = localAssortF(E,M)\n",
    "\n",
    "    for i in range(C):\n",
    "        msm = assortT[thresholds[i]:thresholds[i+1]].mean()\n",
    "        if msm > mMax[i]:\n",
    "            mMax[i] = msm\n",
    "        if msm < mMin[i]:\n",
    "            mMin[i] = msm\n",
    "\n",
    "        \n",
    "plt.fill_between(Z.sum(axis=0), mMin, mMax)"
   ]
  },
  {
   "cell_type": "code",
   "execution_count": 936,
   "id": "dda6b575-70f5-432e-a9cb-9dd869481291",
   "metadata": {},
   "outputs": [
    {
     "data": {
      "text/plain": [
       "array([725,  91, 216,  50,  96, 124,  53, 451,  79, 115])"
      ]
     },
     "execution_count": 936,
     "metadata": {},
     "output_type": "execute_result"
    }
   ],
   "source": [
    "Z.sum(axis=0)"
   ]
  },
  {
   "cell_type": "code",
   "execution_count": 918,
   "id": "0a724661-7c1e-4185-abc1-0f3dcd72f609",
   "metadata": {},
   "outputs": [
    {
     "data": {
      "text/plain": [
       "(array([], dtype=int64), array([], dtype=int64))"
      ]
     },
     "execution_count": 918,
     "metadata": {},
     "output_type": "execute_result"
    }
   ],
   "source": [
    "np.where(E==733)"
   ]
  },
  {
   "cell_type": "code",
   "execution_count": 928,
   "id": "c47ff643-b28a-4397-acf9-90c272c6577e",
   "metadata": {},
   "outputs": [
    {
     "data": {
      "text/plain": [
       "-0.05673542073412896"
      ]
     },
     "execution_count": 928,
     "metadata": {},
     "output_type": "execute_result"
    }
   ],
   "source": [
    "assortT\n",
    "assortT[thresholds[i]:thresholds[i+1]].mean()"
   ]
  },
  {
   "cell_type": "code",
   "execution_count": 932,
   "id": "e0bc64c8-a9a6-492a-a873-8658a50d5e6a",
   "metadata": {},
   "outputs": [
    {
     "data": {
      "text/plain": [
       "-0.05673542073412896"
      ]
     },
     "execution_count": 932,
     "metadata": {},
     "output_type": "execute_result"
    }
   ],
   "source": [
    "com = assortT[thresholds[i]:thresholds[i+1]]\n",
    "com[np.where(~np.isnan(com))].mean()"
   ]
  },
  {
   "cell_type": "code",
   "execution_count": 934,
   "id": "5c58065f-1cc0-458d-89bc-6632c78fe274",
   "metadata": {},
   "outputs": [
    {
     "data": {
      "text/plain": [
       "array([ 0.21174114, -0.06486218, -0.0017703 , -0.08419445, -0.05673542,\n",
       "       -0.04503654, -0.08121559,  0.10070097, -0.06504273, -0.05305161])"
      ]
     },
     "execution_count": 934,
     "metadata": {},
     "output_type": "execute_result"
    }
   ],
   "source": [
    "y = np.zeros(C)\n",
    "\n",
    "for i in range(C):\n",
    "    com = assortT[thresholds[i]:thresholds[i+1]]\n",
    "    msm = com[np.where(~np.isnan(com))].mean()\n",
    "    if msm > mMax[i]:\n",
    "        mMax[i] = msm\n",
    "    if msm < mMin[i]:\n",
    "        mMin[i] = msm\n",
    "        \n",
    "    y[i] = msm\n",
    "    \n",
    "y"
   ]
  },
  {
   "cell_type": "code",
   "execution_count": 924,
   "id": "a3cbbca1-6136-41c8-9f01-93fda745ccea",
   "metadata": {},
   "outputs": [
    {
     "data": {
      "text/plain": [
       "array([ 0.0933832 ,  0.19114726,  0.22441911, ..., -0.04188586,\n",
       "       -0.03773417, -0.09606901])"
      ]
     },
     "execution_count": 924,
     "metadata": {},
     "output_type": "execute_result"
    }
   ],
   "source": [
    "assortT"
   ]
  },
  {
   "cell_type": "code",
   "execution_count": 937,
   "id": "95e18d21-9e18-4522-94b0-1ce88862bf87",
   "metadata": {},
   "outputs": [
    {
     "data": {
      "text/plain": [
       "array([ 50,  53,  79,  91,  96, 115, 124, 216, 451, 725])"
      ]
     },
     "execution_count": 937,
     "metadata": {},
     "output_type": "execute_result"
    }
   ],
   "source": [
    "sizes.sort()\n",
    "sizes"
   ]
  },
  {
   "cell_type": "code",
   "execution_count": 939,
   "id": "c58589d0-689b-479a-b077-d2d5342e7ac8",
   "metadata": {},
   "outputs": [
    {
     "data": {
      "text/plain": [
       "<matplotlib.collections.PathCollection at 0x118fd14f0>"
      ]
     },
     "execution_count": 939,
     "metadata": {},
     "output_type": "execute_result"
    },
    {
     "data": {
      "image/png": "[encoded data removed]",
      "text/plain": [
       "<Figure size 432x288 with 1 Axes>"
      ]
     },
     "metadata": {
      "needs_background": "light"
     },
     "output_type": "display_data"
    }
   ],
   "source": [
    "N = 1000\n",
    "C = 10\n",
    "gamma = 2.5\n",
    "\n",
    "# block membership matrix\n",
    "Z = np.zeros((N, C), dtype=int)\n",
    "\n",
    "sizes = powerlaw_partition(gamma, 8, C, N, rng)\n",
    "sizes.sort()\n",
    "\n",
    "thresholds = np.zeros(len(sizes) + 1, dtype=int)\n",
    "thresholds[1:] = sizes\n",
    "\n",
    "for i in range(2, len(thresholds)):\n",
    "    thresholds[i:] += sizes[i-2]\n",
    "\n",
    "for i in range(C):\n",
    "    Z[thresholds[i]:thresholds[i+1]][:,i] = 1\n",
    "    \n",
    "# mixing matrix\n",
    "B = np.ones((C,C)) * 8\n",
    "\n",
    "\n",
    "for i in range(C):\n",
    "    # 16% of possible internal edges exist in each class\n",
    "    B[i,i] = 0.08 * sizes[i] * (sizes[i] - 1)\n",
    "    \n",
    "    for j in range(i+1, C):\n",
    "        # 5% of possible external edges exist\n",
    "        B[i,j] = 0.05 * sizes[i] * sizes[j]\n",
    "        B[j,i] = B[i,j]\n",
    "        \n",
    "# degree distribution\n",
    "# assign edge wealth to each node\n",
    "theta = []\n",
    "\n",
    "for size in sizes:\n",
    "    s = rng.uniform(size=size)\n",
    "    theta.append(s/s.sum())\n",
    "    \n",
    "theta = np.hstack(theta)\n",
    "assert theta.sum() == C\n",
    "\n",
    "# predict values\n",
    "pr = np.arange(0,1,0.1)\n",
    "predM, predT = predict_msm_block(B, theta, Z, pr)\n",
    "\n",
    "# generate actual network and calculate MSM\n",
    "E, M = generate_dc_sbm(B, theta, Z, 24681012)\n",
    "assortM, assortT, _ = localAssortF(E,M)\n",
    "\n",
    "y = []\n",
    "\n",
    "for i in range(C):\n",
    "    com = assortT[thresholds[i]:thresholds[i+1]]\n",
    "    y.append(com[np.where(~np.isnan(com))].mean())\n",
    "\n",
    "plt.scatter(Z.sum(axis=0),y)\n",
    "plt.scatter(Z.sum(axis=0),predT)"
   ]
  },
  {
   "cell_type": "code",
   "execution_count": 941,
   "id": "6e9e94e5-5a73-4b0a-b3ef-d9b44e35c893",
   "metadata": {},
   "outputs": [
    {
     "name": "stdout",
     "output_type": "stream",
     "text": [
      "0\n",
      "1\n",
      "2\n",
      "3\n",
      "4\n",
      "5\n",
      "6\n",
      "7\n",
      "8\n",
      "9\n"
     ]
    },
    {
     "data": {
      "text/plain": [
       "<matplotlib.collections.PolyCollection at 0x11909c160>"
      ]
     },
     "execution_count": 941,
     "metadata": {},
     "output_type": "execute_result"
    },
    {
     "data": {
      "image/png": "[encoded data removed]",
      "text/plain": [
       "<Figure size 432x288 with 1 Axes>"
      ]
     },
     "metadata": {
      "needs_background": "light"
     },
     "output_type": "display_data"
    }
   ],
   "source": [
    "n_trials = 10\n",
    "\n",
    "mMax = np.ones(C) * -np.inf\n",
    "mMin = np.ones(C) * np.inf\n",
    "\n",
    "for j in range(n_trials):\n",
    "    seed = j\n",
    "    E, M = generate_dc_sbm(B, theta, Z, seed)\n",
    "    assortM, assortT, _ = localAssortF(E,M)\n",
    "\n",
    "    for i in range(C):\n",
    "        com = assortT[thresholds[i]:thresholds[i+1]]\n",
    "        msm = com[np.where(~np.isnan(com))].mean()\n",
    "        \n",
    "        if msm > mMax[i]:\n",
    "            mMax[i] = msm\n",
    "        if msm < mMin[i]:\n",
    "            mMin[i] = msm\n",
    "            \n",
    "    print(j)\n",
    "\n",
    "        \n",
    "plt.fill_between(Z.sum(axis=0), mMin, mMax)"
   ]
  },
  {
   "cell_type": "code",
   "execution_count": 942,
   "id": "e0e10737-eea8-49b7-90a6-bf8d458499d1",
   "metadata": {},
   "outputs": [
    {
     "data": {
      "text/plain": [
       "<matplotlib.collections.PathCollection at 0x11e9d0520>"
      ]
     },
     "execution_count": 942,
     "metadata": {},
     "output_type": "execute_result"
    },
    {
     "data": {
      "image/png": "[encoded data removed]",
      "text/plain": [
       "<Figure size 432x288 with 1 Axes>"
      ]
     },
     "metadata": {
      "needs_background": "light"
     },
     "output_type": "display_data"
    }
   ],
   "source": [
    "plt.fill_between(Z.sum(axis=0), mMin, mMax)\n",
    "plt.scatter(Z.sum(axis=0),predT)"
   ]
  },
  {
   "cell_type": "code",
   "execution_count": 948,
   "id": "20d0731b-83ec-4780-93b5-4386f2ad1095",
   "metadata": {},
   "outputs": [
    {
     "data": {
      "text/plain": [
       "<ErrorbarContainer object of 3 artists>"
      ]
     },
     "execution_count": 948,
     "metadata": {},
     "output_type": "execute_result"
    },
    {
     "data": {
      "image/png": "[encoded data removed]",
      "text/plain": [
       "<Figure size 432x288 with 1 Axes>"
      ]
     },
     "metadata": {
      "needs_background": "light"
     },
     "output_type": "display_data"
    }
   ],
   "source": [
    "lower = predT - mMin\n",
    "upper = mMax - predT\n",
    "\n",
    "yerr = np.vstack([low, up])\n",
    "\n",
    "plt.errorbar(Z.sum(axis=0),predT, yerr=yerr)"
   ]
  },
  {
   "cell_type": "code",
   "execution_count": 952,
   "id": "bd1a1b7b-2cc6-4dd6-b7c5-564622996e49",
   "metadata": {},
   "outputs": [
    {
     "data": {
      "text/plain": [
       "<ErrorbarContainer object of 3 artists>"
      ]
     },
     "execution_count": 952,
     "metadata": {},
     "output_type": "execute_result"
    },
    {
     "data": {
      "image/png": "[encoded data removed]",
      "text/plain": [
       "<Figure size 432x288 with 1 Axes>"
      ]
     },
     "metadata": {
      "needs_background": "light"
     },
     "output_type": "display_data"
    }
   ],
   "source": [
    "plt.errorbar(Z.sum(axis=0),predT, yerr=yerr, fmt=\"o\")"
   ]
  },
  {
   "cell_type": "code",
   "execution_count": 954,
   "id": "0b8808dd-8a4d-4340-9c0c-63d141ada6b5",
   "metadata": {},
   "outputs": [
    {
     "name": "stderr",
     "output_type": "stream",
     "text": [
      "/Users/rebecca/school/csci5352/Project/MultiscaleMixing/source/lassort/localassort.py:62: RuntimeWarning: divide by zero encountered in true_divide\n",
      "  D = sparse.diags(1./degree, 0, format='csc')\n",
      "/Users/rebecca/school/csci5352/Project/MultiscaleMixing/source/lassort/localassort.py:74: RuntimeWarning: invalid value encountered in true_divide\n",
      "  Z = (W @ Z) / degree\n",
      "/Users/rebecca/school/csci5352/Project/MultiscaleMixing/source/lassort/localassort.py:121: RuntimeWarning: invalid value encountered in true_divide\n",
      "  e_gh /= e_gh_sum\n"
     ]
    },
    {
     "name": "stdout",
     "output_type": "stream",
     "text": [
      "0\n",
      "1\n",
      "2\n",
      "3\n",
      "4\n",
      "5\n",
      "6\n",
      "7\n",
      "8\n",
      "9\n"
     ]
    }
   ],
   "source": [
    "N = 1000\n",
    "C = 10\n",
    "gamma = 2.5\n",
    "n_trials = 10\n",
    "\n",
    "\n",
    "# block membership matrix\n",
    "Z = np.zeros((N, C), dtype=int)\n",
    "\n",
    "sizes = powerlaw_partition(gamma, 8, C, N, rng)\n",
    "sizes.sort()\n",
    "\n",
    "thresholds = np.zeros(len(sizes) + 1, dtype=int)\n",
    "thresholds[1:] = sizes\n",
    "\n",
    "for i in range(2, len(thresholds)):\n",
    "    thresholds[i:] += sizes[i-2]\n",
    "\n",
    "for i in range(C):\n",
    "    Z[thresholds[i]:thresholds[i+1]][:,i] = 1\n",
    "    \n",
    "# mixing matrix\n",
    "B = np.ones((C,C)) * 8\n",
    "\n",
    "\n",
    "for i in range(C):\n",
    "    # 16% of possible internal edges exist in each class\n",
    "    B[i,i] = 0.08 * sizes[i] * (sizes[i] - 1)\n",
    "    \n",
    "    for j in range(i+1, C):\n",
    "        # 5% of possible external edges exist\n",
    "        B[i,j] = 0.05 * sizes[i] * sizes[j]\n",
    "        B[j,i] = B[i,j]\n",
    "        \n",
    "# degree distribution\n",
    "# assign edge wealth to each node\n",
    "theta = []\n",
    "\n",
    "for size in sizes:\n",
    "    s = rng.uniform(size=size)\n",
    "    theta.append(s/s.sum())\n",
    "    \n",
    "theta = np.hstack(theta)\n",
    "assert theta.sum() == C\n",
    "\n",
    "# predict values\n",
    "pr = np.arange(0,1,0.1)\n",
    "predM, predT = predict_msm_block(B, theta, Z, pr)\n",
    "\n",
    "batches = []\n",
    "\n",
    "for j in range(n_trials):\n",
    "    seed = j\n",
    "    \n",
    "    # generate graph\n",
    "    # this can fail if a probability is > 1\n",
    "    for k in range(5):\n",
    "        try:\n",
    "            E, M = generate_dc_sbm(B, theta, Z, seed)\n",
    "            break\n",
    "        except:\n",
    "            continue\n",
    "    \n",
    "    assortM, assortT, _ = localAssortF(E,M)\n",
    "\n",
    "    scores = []\n",
    "    for i in range(C):\n",
    "        com = assortT[thresholds[i]:thresholds[i+1]]\n",
    "        msm = com[np.where(~np.isnan(com))].mean()\n",
    "        scores.append(msm) \n",
    "    \n",
    "    batches.append(scores)\n",
    "    print(j)"
   ]
  },
  {
   "cell_type": "code",
   "execution_count": 961,
   "id": "016842f3-fda9-407c-99cc-3fe4dcd8aeb6",
   "metadata": {},
   "outputs": [
    {
     "data": {
      "text/plain": [
       "<matplotlib.collections.PathCollection at 0x119098160>"
      ]
     },
     "execution_count": 961,
     "metadata": {},
     "output_type": "execute_result"
    },
    {
     "data": {
      "image/png": "[encoded data removed]",
      "text/plain": [
       "<Figure size 432x288 with 1 Axes>"
      ]
     },
     "metadata": {
      "needs_background": "light"
     },
     "output_type": "display_data"
    }
   ],
   "source": [
    "plt.scatter(Z.sum(axis=0),predT)\n",
    "plt.scatter(Z.sum(axis=0),np.array(batches).mean(axis=0))"
   ]
  },
  {
   "cell_type": "code",
   "execution_count": 964,
   "id": "5e11d631-d55e-4784-b156-6814068bc46c",
   "metadata": {},
   "outputs": [
    {
     "data": {
      "text/plain": [
       "array([0.0069924 , 0.00490956, 0.00402412, 0.0070274 , 0.00570761,\n",
       "       0.00329611, 0.00501495, 0.0059688 , 0.00524931, 0.00314476])"
      ]
     },
     "execution_count": 964,
     "metadata": {},
     "output_type": "execute_result"
    }
   ],
   "source": [
    "y = np.array(batches)\n",
    "y.std(axis=0)"
   ]
  },
  {
   "cell_type": "code",
   "execution_count": 984,
   "id": "4994513a-e0e3-4a49-9e7c-11e74823bc21",
   "metadata": {},
   "outputs": [
    {
     "data": {
      "text/plain": [
       "Text(0.5, 1.0, 'N=1000, 10 trials')"
      ]
     },
     "execution_count": 984,
     "metadata": {},
     "output_type": "execute_result"
    },
    {
     "data": {
      "image/png": "[encoded data removed]",
      "text/plain": [
       "<Figure size 432x288 with 1 Axes>"
      ]
     },
     "metadata": {
      "needs_background": "light"
     },
     "output_type": "display_data"
    }
   ],
   "source": [
    "plt.scatter(Z.sum(axis=0),predT,marker=\"X\",color=\"tab:orange\")\n",
    "\n",
    "plt.errorbar(\n",
    "    Z.sum(axis=0), \n",
    "    y.mean(axis=0),\n",
    "    y.std(axis=0),\n",
    "    fmt=\"o\"\n",
    ")\n",
    "\n",
    "plt.legend([\"Predicted\", \"Observed\"])\n",
    "plt.xlabel(\"Class Size\")\n",
    "plt.ylabel(\"$r(\\ell)$\")\n",
    "plt.title(f\"N={N}, {n_trials} trials\")"
   ]
  },
  {
   "cell_type": "code",
   "execution_count": null,
   "id": "41fdf264-b84f-46d9-8ebf-0b5ee9cfd588",
   "metadata": {},
   "outputs": [],
   "source": []
  },
  {
   "cell_type": "code",
   "execution_count": null,
   "id": "3e545f28-6ec5-4929-ac46-1d4036964913",
   "metadata": {},
   "outputs": [],
   "source": []
  },
  {
   "cell_type": "code",
   "execution_count": null,
   "id": "21556b6d-4656-47a7-b0c1-949c0bbbeae7",
   "metadata": {},
   "outputs": [],
   "source": []
  },
  {
   "cell_type": "code",
   "execution_count": null,
   "id": "b9a7ef70-7c64-4e51-9d3b-afbb0c815af9",
   "metadata": {},
   "outputs": [],
   "source": []
  },
  {
   "cell_type": "code",
   "execution_count": null,
   "id": "43a75101-384b-4846-92c6-53a607010cab",
   "metadata": {},
   "outputs": [],
   "source": []
  },
  {
   "cell_type": "code",
   "execution_count": null,
   "id": "6df6bafe-02b8-42cb-a5a5-d56831a4a115",
   "metadata": {},
   "outputs": [],
   "source": []
  },
  {
   "cell_type": "code",
   "execution_count": 991,
   "id": "855c6cd5-d43e-4a0a-9271-ae9d83ef9bec",
   "metadata": {},
   "outputs": [
    {
     "data": {
      "text/plain": [
       "38"
      ]
     },
     "execution_count": 991,
     "metadata": {},
     "output_type": "execute_result"
    }
   ],
   "source": [
    "rng.choice(1000)"
   ]
  }
 ],
 "metadata": {
  "kernelspec": {
   "display_name": "Python 3",
   "language": "python",
   "name": "python3"
  },
  "language_info": {
   "codemirror_mode": {
    "name": "ipython",
    "version": 3
   },
   "file_extension": ".py",
   "mimetype": "text/x-python",
   "name": "python",
   "nbconvert_exporter": "python",
   "pygments_lexer": "ipython3",
   "version": "3.9.5"
  }
 },
 "nbformat": 4,
 "nbformat_minor": 5
}
