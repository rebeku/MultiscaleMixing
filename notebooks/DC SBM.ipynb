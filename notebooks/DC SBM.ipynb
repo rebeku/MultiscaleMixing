{
 "cells": [
  {
   "cell_type": "markdown",
   "id": "6a4abc34-0aa5-4ca8-833d-2787ea1b0a06",
   "metadata": {},
   "source": [
    "Let's try generating a DC-SBM properly and then do the PPR stuff again.  This way we don't have to worry about errors translating from the SBM.\n",
    "\n",
    "10 communities w/ 100 nodes each, 1 one with 1,000"
   ]
  },
  {
   "cell_type": "code",
   "execution_count": 464,
   "id": "a16f25ae-b2ca-41eb-a0e9-579f740091c7",
   "metadata": {},
   "outputs": [],
   "source": [
    "import numpy as np"
   ]
  },
  {
   "cell_type": "code",
   "execution_count": 465,
   "id": "9be61ad2-54bd-4598-b278-d8e70830b47c",
   "metadata": {},
   "outputs": [],
   "source": [
    "# block membership matrix\n",
    "Z = np.zeros((2000, 11), dtype=int)\n",
    "\n",
    "sizes = np.append(np.array([100]*10), 1000)\n",
    "C = len(sizes)\n",
    "N = sizes.sum()\n",
    "\n",
    "thresholds = np.zeros(len(sizes) + 1, dtype=int)\n",
    "thresholds[1:] = sizes\n",
    "\n",
    "for i in range(2, len(thresholds)):\n",
    "    thresholds[i:] += sizes[i-2]\n",
    "\n",
    "for i in range(C):\n",
    "    Z[thresholds[i]:thresholds[i+1]][:,i] = 1\n",
    "\n",
    "    \n",
    "# mixing matrix\n",
    "# average of 8 edges between the smaller off-diagonal classes\n",
    "B = np.ones((C,C)) * 8\n",
    "B[:,-1] *= 10\n",
    "B[-1, :] *= 10\n",
    "\n",
    "for i in range(C -1):\n",
    "    B[i,i] = 3200\n",
    "    \n",
    "B[-1,-1] = 320000\n",
    "\n",
    "# theta should sum to 1 for each block\n",
    "theta = np.ones(N)\n",
    "theta[:1000] *= 1e-2\n",
    "theta[1000:] *= 1e-3\n",
    "\n",
    "assert theta.sum() == C\n",
    "\n",
    "# generate random graph\n",
    "A = np.zeros((N,N), dtype=int)\n",
    "rng = np.random.default_rng(7777778)\n",
    "choices = rng.uniform(size=N*(N-1)//2)\n",
    "\n",
    "# probabilities for each pair of nodes\n",
    "theta = np.diag(theta)\n",
    "p = (theta @ Z @ B @ Z.T @ theta)\n",
    "\n",
    "# this sucks but yeet\n",
    "A = np.zeros((N,N), dtype=int)\n",
    "\n",
    "k = 0\n",
    "for i in range(N):\n",
    "    for j in range(i+1, N):\n",
    "        if choices[k] < p[i,j]:\n",
    "            A[i,j] = 1\n",
    "            A[j,i] = 1\n",
    "        k+=1"
   ]
  },
  {
   "cell_type": "code",
   "execution_count": 466,
   "id": "47d57c7e-8913-4083-8fc2-6761fffc0266",
   "metadata": {},
   "outputs": [
    {
     "name": "stdout",
     "output_type": "stream",
     "text": [
      "88.0\n",
      "-110.0\n",
      "-92.0\n",
      "-37.0\n",
      "29.0\n",
      "-12.0\n",
      "-21.0\n",
      "-49.0\n",
      "48.0\n",
      "47.0\n",
      "-757.0\n"
     ]
    }
   ],
   "source": [
    "for i in range(C):\n",
    "    print(A[thresholds[i]:thresholds[i+1]].sum() - B.sum(axis=0)[i])"
   ]
  },
  {
   "cell_type": "code",
   "execution_count": 467,
   "id": "a04c561e-74bb-4f82-99d2-f2d39cf638d3",
   "metadata": {},
   "outputs": [
    {
     "name": "stdout",
     "output_type": "stream",
     "text": [
      "86.0\n",
      "-104.0\n",
      "-102.0\n",
      "-38.0\n",
      "40.0\n",
      "2.0\n",
      "-24.0\n",
      "-68.0\n",
      "56.0\n",
      "54.0\n",
      "-746.0\n"
     ]
    }
   ],
   "source": [
    "for i in range(C):\n",
    "    print(\n",
    "        A[thresholds[i]:thresholds[i+1], thresholds[i]:thresholds[i+1]].sum() - B[i,i])"
   ]
  },
  {
   "cell_type": "code",
   "execution_count": 468,
   "id": "0f9bb4c2-15c2-4f79-a257-d16bc6d938e5",
   "metadata": {},
   "outputs": [
    {
     "data": {
      "text/plain": [
       "array([  3352.,   3352.,   3352.,   3352.,   3352.,   3352.,   3352.,\n",
       "         3352.,   3352.,   3352., 320800.])"
      ]
     },
     "execution_count": 468,
     "metadata": {},
     "output_type": "execute_result"
    }
   ],
   "source": [
    "B.sum(axis=0)"
   ]
  },
  {
   "cell_type": "code",
   "execution_count": null,
   "id": "c03ee23b-fb30-4cc7-9486-d21fe77ab9ea",
   "metadata": {},
   "outputs": [],
   "source": []
  },
  {
   "cell_type": "markdown",
   "id": "a5584cb4-969a-4de2-a898-47994d0c428e",
   "metadata": {},
   "source": [
    "Ok I am satisfied.  This DC-SBM looks legit.\n",
    "\n",
    "Compute blockwise PPR"
   ]
  },
  {
   "cell_type": "code",
   "execution_count": 469,
   "id": "71425313-189b-485f-aa90-1fc03550d89a",
   "metadata": {},
   "outputs": [
    {
     "data": {
      "text/plain": [
       "array([0.90456059, 0.00477533, 0.00477533, 0.00477533, 0.00477533,\n",
       "       0.00477533, 0.00477533, 0.00477533, 0.00477533, 0.00477533,\n",
       "       0.05246141])"
      ]
     },
     "execution_count": 469,
     "metadata": {},
     "output_type": "execute_result"
    }
   ],
   "source": [
    "# fix source node of PPR for now\n",
    "u = 7\n",
    "alpha = 0.3\n",
    "\n",
    "pi = np.zeros(N)\n",
    "pi[u] = 1\n",
    "\n",
    "D = np.diag(B.sum(axis=0))\n",
    "P = np.linalg.inv(D) @ B\n",
    "\n",
    "alpha_pi_t = pi @ Z * alpha\n",
    "\n",
    "\n",
    "inv_transform = np.linalg.inv(np.eye(C) - (1-alpha)*P)\n",
    "p = alpha_pi_t @ inv_transform\n",
    "\n",
    "# blockwise PPR vector\n",
    "p"
   ]
  },
  {
   "cell_type": "code",
   "execution_count": 397,
   "id": "434322eb-d30d-4f5f-b3b3-314c2b3c4cb9",
   "metadata": {},
   "outputs": [],
   "source": [
    "from lassort.localassort import calculateRWRrange\n",
    "\n",
    "# is this correct?\n",
    "degree = A.sum(axis=0)\n",
    "D = np.diag(1./degree, 0)\n",
    "# construct transition matrix (row normalised adjacency matrix)\n",
    "W = D @ A\n",
    "\n",
    "pr = np.array([alpha])\n",
    "\n",
    "pis, ti, it = calculateRWRrange(W, 100, pr, N)"
   ]
  },
  {
   "cell_type": "code",
   "execution_count": 398,
   "id": "d7a3ccc7-08e4-40d5-b6df-add906b37432",
   "metadata": {},
   "outputs": [
    {
     "data": {
      "text/plain": [
       "0.0007084564687767997"
      ]
     },
     "execution_count": 398,
     "metadata": {},
     "output_type": "execute_result"
    }
   ],
   "source": [
    "ti[:100].sum()"
   ]
  },
  {
   "cell_type": "code",
   "execution_count": 399,
   "id": "f8b4ab91-4126-4497-9769-12ee3e9400f7",
   "metadata": {},
   "outputs": [
    {
     "data": {
      "text/plain": [
       "0.913508264314111"
      ]
     },
     "execution_count": 399,
     "metadata": {},
     "output_type": "execute_result"
    }
   ],
   "source": [
    "ti[100:200].sum()"
   ]
  },
  {
   "cell_type": "code",
   "execution_count": 400,
   "id": "37e12859-b3fc-4b6b-906a-17a8a123df4e",
   "metadata": {},
   "outputs": [
    {
     "data": {
      "text/plain": [
       "0.0007069888864222242"
      ]
     },
     "execution_count": 400,
     "metadata": {},
     "output_type": "execute_result"
    }
   ],
   "source": [
    "ti[200:300].sum()"
   ]
  },
  {
   "cell_type": "code",
   "execution_count": 401,
   "id": "a97f3bb4-1ce2-43ab-b194-04a285ffa3da",
   "metadata": {},
   "outputs": [
    {
     "data": {
      "text/plain": [
       "0.0011422256022391288"
      ]
     },
     "execution_count": 401,
     "metadata": {},
     "output_type": "execute_result"
    }
   ],
   "source": [
    "ti[400:500].sum()"
   ]
  },
  {
   "cell_type": "markdown",
   "id": "de366d6f-0e95-4d3e-9ffd-225f0a312e93",
   "metadata": {},
   "source": [
    "Ooookay...  I think this is right actually."
   ]
  },
  {
   "cell_type": "code",
   "execution_count": 470,
   "id": "7a19d3ad-6f57-4acd-9a83-8dd32842078c",
   "metadata": {},
   "outputs": [
    {
     "data": {
      "text/plain": [
       "0.7597160126411407"
      ]
     },
     "execution_count": 470,
     "metadata": {},
     "output_type": "execute_result"
    }
   ],
   "source": [
    "# compute expected  multiscale mixing\n",
    "# egl - ar^2\n",
    "ar2 = (B.sum(axis=0) / B.sum())**2\n",
    "\n",
    "eggl = p * np.diag(B)/ B.sum(axis=0)\n",
    "\n",
    "\n",
    "qmax = 1 - ar2.sum()\n",
    "r_loc = (eggl.sum() - ar2.sum()) / qmax\n",
    "\n",
    "r_loc"
   ]
  },
  {
   "cell_type": "code",
   "execution_count": 436,
   "id": "c2a9f6f7-7048-4274-be6e-d9dc8bbef7f3",
   "metadata": {},
   "outputs": [],
   "source": [
    "from lassort import localAssortF\n",
    "import networkx as nx"
   ]
  },
  {
   "cell_type": "code",
   "execution_count": 452,
   "id": "683af5e3-597e-4584-9500-e23bc2f265f7",
   "metadata": {},
   "outputs": [],
   "source": [
    "G = nx.convert_matrix.from_numpy_matrix(A)\n",
    "E = nx.convert_matrix.to_pandas_edgelist(G).values[:,:2]\n"
   ]
  },
  {
   "cell_type": "code",
   "execution_count": 455,
   "id": "76764d64-57b0-4c94-89ba-2c5dd912b320",
   "metadata": {},
   "outputs": [
    {
     "data": {
      "text/plain": [
       "array([0.7992832 , 0.6635741 , 0.79227753, ..., 0.98362697, 0.9833658 ,\n",
       "       0.96762478])"
      ]
     },
     "execution_count": 455,
     "metadata": {},
     "output_type": "execute_result"
    }
   ],
   "source": [
    "attr = []\n",
    "\n",
    "for i in range(C - 1):\n",
    "    attr.append(np.ones(100, dtype=int) * i)\n",
    "    \n",
    "attr.append(np.ones(1000, dtype=int)*10)\n",
    "\n",
    "M = np.hstack(attr)\n",
    "assortM, assortT, Z = localAssortF(E,M,pr=np.array([0.3]))\n",
    "                                   \n",
    "assortT"
   ]
  },
  {
   "cell_type": "code",
   "execution_count": 458,
   "id": "08c55996-8948-47e9-b425-bf2f9075b748",
   "metadata": {},
   "outputs": [
    {
     "data": {
      "text/plain": [
       "0.7563480046505685"
      ]
     },
     "execution_count": 458,
     "metadata": {},
     "output_type": "execute_result"
    }
   ],
   "source": [
    "assortT[:1000].mean()"
   ]
  },
  {
   "cell_type": "markdown",
   "id": "126411eb-8a1e-41a9-b828-8176c26fb9ae",
   "metadata": {},
   "source": [
    "This is close...\n",
    "\n",
    "Let's try one in the big chonk"
   ]
  },
  {
   "cell_type": "code",
   "execution_count": 471,
   "id": "30dfbe53-5e5b-4552-9aef-4c25f20077d5",
   "metadata": {},
   "outputs": [
    {
     "data": {
      "text/plain": [
       "0.984786876776065"
      ]
     },
     "execution_count": 471,
     "metadata": {},
     "output_type": "execute_result"
    }
   ],
   "source": [
    "# fix source node of PPR for now\n",
    "u = 1554\n",
    "alpha = 0.3\n",
    "\n",
    "pi = np.zeros(N)\n",
    "pi[u] = 1\n",
    "\n",
    "D = np.diag(B.sum(axis=0))\n",
    "P = np.linalg.inv(D) @ B\n",
    "\n",
    "alpha_pi_t = pi @ Z * alpha\n",
    "\n",
    "\n",
    "inv_transform = np.linalg.inv(np.eye(C) - (1-alpha)*P)\n",
    "p = alpha_pi_t @ inv_transform\n",
    "\n",
    "# compute expected  multiscale mixing\n",
    "# egl - ar^2\n",
    "ar2 = (B.sum(axis=0) / B.sum())**2\n",
    "\n",
    "eggl = p * np.diag(B)/ B.sum(axis=0)\n",
    "\n",
    "\n",
    "qmax = 1 - ar2.sum()\n",
    "r_loc = (eggl.sum() - ar2.sum()) / qmax\n",
    "\n",
    "r_loc"
   ]
  },
  {
   "cell_type": "code",
   "execution_count": 472,
   "id": "d2eb8781-e0ec-4ffc-aa0f-c6f5101240f1",
   "metadata": {},
   "outputs": [
    {
     "data": {
      "text/plain": [
       "0.9854791201628526"
      ]
     },
     "execution_count": 472,
     "metadata": {},
     "output_type": "execute_result"
    }
   ],
   "source": [
    "assortT[1000:].mean()"
   ]
  },
  {
   "cell_type": "code",
   "execution_count": 461,
   "id": "cfb288fc-cc47-4c32-a301-9fabf96b66ec",
   "metadata": {},
   "outputs": [
    {
     "data": {
      "text/plain": [
       "(2000,)"
      ]
     },
     "execution_count": 461,
     "metadata": {},
     "output_type": "execute_result"
    }
   ],
   "source": [
    "pi.shape"
   ]
  },
  {
   "cell_type": "code",
   "execution_count": 462,
   "id": "f172d737-91d9-42f5-91eb-f2b2cdb96a1d",
   "metadata": {},
   "outputs": [
    {
     "data": {
      "text/plain": [
       "(2000,)"
      ]
     },
     "execution_count": 462,
     "metadata": {},
     "output_type": "execute_result"
    }
   ],
   "source": [
    "Z.shape"
   ]
  }
 ],
 "metadata": {
  "kernelspec": {
   "display_name": "Python 3",
   "language": "python",
   "name": "python3"
  },
  "language_info": {
   "codemirror_mode": {
    "name": "ipython",
    "version": 3
   },
   "file_extension": ".py",
   "mimetype": "text/x-python",
   "name": "python",
   "nbconvert_exporter": "python",
   "pygments_lexer": "ipython3",
   "version": "3.9.5"
  }
 },
 "nbformat": 4,
 "nbformat_minor": 5
}
